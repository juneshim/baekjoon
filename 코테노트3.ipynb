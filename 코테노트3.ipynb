{
  "nbformat": 4,
  "nbformat_minor": 0,
  "metadata": {
    "colab": {
      "provenance": [],
      "authorship_tag": "ABX9TyMMxjf9wuQ36c8ByBqRVkzv",
      "include_colab_link": true
    },
    "kernelspec": {
      "name": "python3",
      "display_name": "Python 3"
    },
    "language_info": {
      "name": "python"
    }
  },
  "cells": [
    {
      "cell_type": "markdown",
      "metadata": {
        "id": "view-in-github",
        "colab_type": "text"
      },
      "source": [
        "<a href=\"https://colab.research.google.com/github/juneshim/baekjoon/blob/main/%EC%BD%94%ED%85%8C%EB%85%B8%ED%8A%B83.ipynb\" target=\"_parent\"><img src=\"https://colab.research.google.com/assets/colab-badge.svg\" alt=\"Open In Colab\"/></a>"
      ]
    },
    {
      "cell_type": "markdown",
      "source": [
        "### 브루트 포스"
      ],
      "metadata": {
        "id": "Rg_SDT6yekaf"
      }
    },
    {
      "cell_type": "code",
      "execution_count": null,
      "metadata": {
        "colab": {
          "base_uri": "https://localhost:8080/"
        },
        "id": "HF2QkF9rcit1",
        "outputId": "51d1a38c-e3bf-4429-bfed-562b740f00ce"
      },
      "outputs": [
        {
          "output_type": "stream",
          "name": "stdout",
          "text": [
            "10 500\n",
            "93 181 245 214 315 36 185 138 216 295\n",
            "497\n"
          ]
        }
      ],
      "source": [
        "#2798. n장의 카드 중 3장의 합을 N과 가장 가깝게 만드는 알고리즘\n",
        "from collections import deque\n",
        "\n",
        "arr = list(map(int, input().split()))\n",
        "n = arr[0]\n",
        "N = arr[1]\n",
        "n_arr = list(map(int, input().split()))\n",
        "sum_dq = deque()\n",
        "for i in range(n) :\n",
        "  for j in range(1,n) :\n",
        "    for k in range(2,n) :\n",
        "      if i == j or j == k or k == i :\n",
        "        continue\n",
        "      temp = n_arr[i] + n_arr[j]\n",
        "      temp += n_arr[k]\n",
        "      if temp <= N :\n",
        "        sum_dq.append(temp)\n",
        "\n",
        "print(max(sum_dq))"
      ]
    },
    {
      "cell_type": "code",
      "source": [
        "#2231. 어떤 자연수n의 각 자리수의 합을 N이라고 할 때, n은 N의 생성자이다. N을 입력받이 n을 출력하는 프로그램\n",
        "### 💡💡💡int형을 string으로 만드는 방법은 str(a)이다\n",
        "def print_smallist_n(N) :\n",
        "  ans_arr = []\n",
        "  for i in range(N) :\n",
        "    temp_n = N-i\n",
        "    arr = list(map(int, str(temp_n)))\n",
        "    if sum(arr) + temp_n == N :\n",
        "      ans_arr.append(temp_n)\n",
        "  if ans_arr:\n",
        "    print(min(ans_arr))\n",
        "  else : print(0)\n",
        "\n",
        "N = int(input())\n",
        "print_smallist_n(N)"
      ],
      "metadata": {
        "colab": {
          "base_uri": "https://localhost:8080/"
        },
        "id": "T3r_nUz8k1LL",
        "outputId": "2b5fe037-f163-4573-d203-543cf6125300"
      },
      "execution_count": null,
      "outputs": [
        {
          "output_type": "stream",
          "name": "stdout",
          "text": [
            "216\n",
            "198\n"
          ]
        }
      ]
    },
    {
      "cell_type": "code",
      "source": [
        "#19532. 2차 연립방정식 해 구하기\n",
        "arr = list(map(int, input().split()))\n",
        "# x 제거해서 y 구하기\n",
        "n1 = arr[1] * arr[3]\n",
        "n2 = arr[2] * arr[3]\n",
        "n3 = arr[4] * arr[0]\n",
        "n4 = arr[5] * arr[0]\n",
        "n5 = n1 - n3\n",
        "if n5 == 0 :\n",
        "  y = 0\n",
        "else :\n",
        "  n6 = n2 - n4\n",
        "  y = n6/n5\n",
        "if arr[0] == 0 :\n",
        "  x = arr[5]/arr[3] - arr[4]*y/arr[3]\n",
        "else :\n",
        "  x = arr[2]/arr[0] - arr[1]*y/arr[0]\n",
        "print(int(x), int(y))"
      ],
      "metadata": {
        "colab": {
          "base_uri": "https://localhost:8080/"
        },
        "id": "W-h_d8h7q7jS",
        "outputId": "ef5e2ccc-bd7a-443b-e0af-8952b310c884"
      },
      "execution_count": null,
      "outputs": [
        {
          "output_type": "stream",
          "name": "stdout",
          "text": [
            "0 -2 -204 -2 -8 -756\n",
            "-30 102\n"
          ]
        }
      ]
    },
    {
      "cell_type": "code",
      "source": [
        "#1018. 체스판 다시 칠하기\n",
        "def check_diff(arr_1, arr_2) :\n",
        "  #8*8의 arr_1과 arr_2의 요소 들 중 다른 것의 개수 x\n",
        "  x = 0\n",
        "  for i in range(8) :\n",
        "    for j in range(8) :\n",
        "      if arr_1[i][j] != arr_2[i][j] :\n",
        "        x += 1\n",
        "  return x\n",
        "\n",
        "def nm_arr_slice(i, j, nm_arr) :\n",
        "  # nm_arr를 nm_arr[i][j]기준으로 8*8 으로 slice\n",
        "  slice_arr = []\n",
        "  for a in range(8):\n",
        "    temp_arr = []\n",
        "    for b in range(8):\n",
        "      temp_arr.append(nm_arr[i+a][j+b])\n",
        "    slice_arr.append(temp_arr)\n",
        "  return slice_arr\n",
        "\n",
        "n_m = input().split()\n",
        "N = int(n_m[0])\n",
        "M = int(n_m[1])\n",
        "# B, W으로 시작하는 체스판 다른 색\n",
        "count_B = []\n",
        "count_W = []\n",
        "# BWBW...100개인 arr\n",
        "arr_100 = []\n",
        "for i in range(100):\n",
        "  if i%2 == 0 :\n",
        "    arr_100.append('B')\n",
        "  if i%2 == 1 :\n",
        "    arr_100.append('W')\n",
        "# B/W으로 시각하는 8*8 체스판 arr88_B/arr88_W\n",
        "arr88_B = []\n",
        "arr88_W = []\n",
        "for i in range(8):\n",
        "  arr_temp = []\n",
        "  for j in range(8):\n",
        "    if (i+j)%2 == 0 :\n",
        "      arr_temp.append('B')\n",
        "    if (i+j)%2 == 1 :\n",
        "      arr_temp.append('W')\n",
        "  arr88_B.append(arr_temp)\n",
        "for i in range(8):\n",
        "  arr_temp = []\n",
        "  for j in range(8):\n",
        "    if (i+j)%2 == 0 :\n",
        "      arr_temp.append('W')\n",
        "    if (i+j)%2 == 1 :\n",
        "      arr_temp.append('B')\n",
        "  arr88_W.append(arr_temp)\n",
        "\n",
        "# N*M을 입력 모두 입력 받고, 8*8가능한 모든 체스판을 확인하여 count_B_arr, count_W_arr 에 저장한다\n",
        "nm_arr = []\n",
        "for i in range(N) :\n",
        "  arr = list(input())\n",
        "  nm_arr.append(arr)\n",
        "for i in range(N-7) :\n",
        "  for j in range(M-7) :\n",
        "    b = check_diff(arr88_B, nm_arr_slice(i, j, nm_arr))\n",
        "    w = check_diff(arr88_W, nm_arr_slice(i, j, nm_arr))\n",
        "    count_B.append(b)\n",
        "    count_W.append(w)\n",
        "\n",
        "# 작은거 출력\n",
        "print(min(min(count_B),min(count_W)))"
      ],
      "metadata": {
        "id": "3sO-cRtAvjem",
        "colab": {
          "base_uri": "https://localhost:8080/"
        },
        "outputId": "5d4bb8f7-a379-4e86-c2b2-dca0963dc0ed"
      },
      "execution_count": null,
      "outputs": [
        {
          "output_type": "stream",
          "name": "stdout",
          "text": [
            "10 13\n",
            "BBBBBBBBWBWBW\n",
            "BBBBBBBBBWBWB\n",
            "BBBBBBBBWBWBW\n",
            "BBBBBBBBBWBWB\n",
            "BBBBBBBBWBWBW\n",
            "BBBBBBBBBWBWB\n",
            "BBBBBBBBWBWBW\n",
            "BBBBBBBBBWBWB\n",
            "WWWWWWWWWWBWB\n",
            "WWWWWWWWWWBWB\n",
            "12\n"
          ]
        }
      ]
    },
    {
      "cell_type": "code",
      "source": [
        "#1436. 666이 배열에 포함된 자연수 찾기\n",
        "def has_666(n) :\n",
        "  #입력값 n에 666이 포함되어 있는지 확인\n",
        "  arr = list(n)\n",
        "  for i in range(len(arr)-2) :\n",
        "    if (arr[i]+arr[i+1]+arr[i+2]) == '666' :\n",
        "      return 1\n",
        "  return 0\n",
        "\n",
        "N = int(input())\n",
        "i = 1\n",
        "n = 666\n",
        "while i < N :\n",
        "  n += 1\n",
        "  if has_666(str(n)) == 1:\n",
        "    i += 1\n",
        "print(n)"
      ],
      "metadata": {
        "id": "_k2-NhxcVU1q",
        "colab": {
          "base_uri": "https://localhost:8080/"
        },
        "outputId": "37f09124-1118-4ab4-9171-cd24a7e64d44"
      },
      "execution_count": null,
      "outputs": [
        {
          "output_type": "stream",
          "name": "stdout",
          "text": [
            "500\n",
            "166699\n"
          ]
        }
      ]
    },
    {
      "cell_type": "code",
      "source": [
        "#1436. 666이 배열에 포함된 자연수 찾기\n",
        "# 개선된 방법!! str(\"666\") in string 사용하기 💡💡💡\n",
        "N = int(input())\n",
        "i = 1\n",
        "n = 666\n",
        "while i < N :\n",
        "  n += 1\n",
        "  if \"666\" in str(n):\n",
        "    i += 1\n",
        "print(n)"
      ],
      "metadata": {
        "colab": {
          "base_uri": "https://localhost:8080/"
        },
        "id": "8FqFvKQxJqUj",
        "outputId": "1e2b4548-4af3-4025-da10-43f166fafbb8"
      },
      "execution_count": null,
      "outputs": [
        {
          "output_type": "stream",
          "name": "stdout",
          "text": [
            "500\n",
            "166699\n"
          ]
        }
      ]
    },
    {
      "cell_type": "code",
      "source": [
        "#2839. n = 5*a + 3*b (a+b기 최소) 인 a,b를 찾는 문제\n",
        "N = int(input())\n",
        "# 쌍이 안되는 경우\n",
        "if N == 1 or N == 2 or N == 4 or N == 7 :\n",
        "  print(-1)\n",
        "else :\n",
        "  # 5로 나눠 나올 수 있는 나머지의 개수로 분리해서 해결\n",
        "  match N%5 :\n",
        "    case 0 :\n",
        "      print(int(N/5))\n",
        "    case 1 :\n",
        "      print(int(N/5-1)+2)\n",
        "    case 2 :\n",
        "      print(int(N/5-2)+4)\n",
        "    case 3 :\n",
        "      print(int(N/5)+1)\n",
        "    case 4 :\n",
        "      print(int(N/5-1)+3)"
      ],
      "metadata": {
        "colab": {
          "base_uri": "https://localhost:8080/"
        },
        "id": "0NRGDDDEK_x9",
        "outputId": "515ab59f-a4af-4e75-b77e-4e00ad472b4b"
      },
      "execution_count": null,
      "outputs": [
        {
          "output_type": "stream",
          "name": "stdout",
          "text": [
            "11\n",
            "3\n"
          ]
        }
      ]
    }
  ]
}