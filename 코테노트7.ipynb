{
  "nbformat": 4,
  "nbformat_minor": 0,
  "metadata": {
    "colab": {
      "provenance": [],
      "authorship_tag": "ABX9TyMZ7nSZW+PA0uXt9KWJdR/u",
      "include_colab_link": true
    },
    "kernelspec": {
      "name": "python3",
      "display_name": "Python 3"
    },
    "language_info": {
      "name": "python"
    }
  },
  "cells": [
    {
      "cell_type": "markdown",
      "metadata": {
        "id": "view-in-github",
        "colab_type": "text"
      },
      "source": [
        "<a href=\"https://colab.research.google.com/github/juneshim/baekjoon/blob/main/%EC%BD%94%ED%85%8C%EB%85%B8%ED%8A%B87.ipynb\" target=\"_parent\"><img src=\"https://colab.research.google.com/assets/colab-badge.svg\" alt=\"Open In Colab\"/></a>"
      ]
    },
    {
      "cell_type": "markdown",
      "source": [
        "#CLASS 2"
      ],
      "metadata": {
        "id": "gU_ZqBvsu5XY"
      }
    },
    {
      "cell_type": "code",
      "execution_count": 15,
      "metadata": {
        "colab": {
          "base_uri": "https://localhost:8080/"
        },
        "id": "KbjLoxJnu3O-",
        "outputId": "1d2340e6-5196-4399-ccb6-2301ea06a5b5"
      },
      "outputs": [
        {
          "name": "stdout",
          "output_type": "stream",
          "text": [
            "7280 9100 5460\n",
            "right\n",
            "0 0 0\n"
          ]
        }
      ],
      "source": [
        "#4153. 직각삼각형 판별기\n",
        "# import sys\n",
        "# input = sys.stdin.readline\n",
        "arr = list(map(int, input().split()))\n",
        "while arr[0]!=0 and arr[1]!=0 and arr[2] != 0 :\n",
        "  arr.sort()\n",
        "  if arr[2] > arr[1] + arr[0] :\n",
        "    print(\"wrong\")\n",
        "    continue\n",
        "  if arr[2]**2 == arr[1]**2 + arr[0]**2 :\n",
        "    print(\"right\")\n",
        "  else:\n",
        "    print(\"wrong\")\n",
        "  arr = list(map(int, input().split()))"
      ]
    },
    {
      "cell_type": "code",
      "source": [],
      "metadata": {
        "id": "NojTd4UQytWs"
      },
      "execution_count": null,
      "outputs": []
    }
  ]
}