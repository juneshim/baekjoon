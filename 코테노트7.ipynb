{
  "nbformat": 4,
  "nbformat_minor": 0,
  "metadata": {
    "colab": {
      "provenance": [],
      "authorship_tag": "ABX9TyM0/R3Yah/tYz+o9BJh1H2H",
      "include_colab_link": true
    },
    "kernelspec": {
      "name": "python3",
      "display_name": "Python 3"
    },
    "language_info": {
      "name": "python"
    }
  },
  "cells": [
    {
      "cell_type": "markdown",
      "metadata": {
        "id": "view-in-github",
        "colab_type": "text"
      },
      "source": [
        "<a href=\"https://colab.research.google.com/github/juneshim/baekjoon/blob/main/%EC%BD%94%ED%85%8C%EB%85%B8%ED%8A%B87.ipynb\" target=\"_parent\"><img src=\"https://colab.research.google.com/assets/colab-badge.svg\" alt=\"Open In Colab\"/></a>"
      ]
    },
    {
      "cell_type": "markdown",
      "source": [
        "#CLASS 2"
      ],
      "metadata": {
        "id": "gU_ZqBvsu5XY"
      }
    },
    {
      "cell_type": "code",
      "execution_count": null,
      "metadata": {
        "colab": {
          "base_uri": "https://localhost:8080/"
        },
        "id": "KbjLoxJnu3O-",
        "outputId": "1d2340e6-5196-4399-ccb6-2301ea06a5b5"
      },
      "outputs": [
        {
          "name": "stdout",
          "output_type": "stream",
          "text": [
            "7280 9100 5460\n",
            "right\n",
            "0 0 0\n"
          ]
        }
      ],
      "source": [
        "#4153. 직각삼각형 판별기\n",
        "# import sys\n",
        "# input = sys.stdin.readline\n",
        "arr = list(map(int, input().split()))\n",
        "while arr[0]!=0 and arr[1]!=0 and arr[2] != 0 :\n",
        "  arr.sort()\n",
        "  if arr[2] > arr[1] + arr[0] :\n",
        "    print(\"wrong\")\n",
        "    continue\n",
        "  if arr[2]**2 == arr[1]**2 + arr[0]**2 :\n",
        "    print(\"right\")\n",
        "  else:\n",
        "    print(\"wrong\")\n",
        "  arr = list(map(int, input().split()))"
      ]
    },
    {
      "cell_type": "code",
      "source": [
        "#10845. 큐 문제\n",
        "from collections import deque\n",
        "# import sys\n",
        "# input = sys.stdin.readline\n",
        "n = int(input())\n",
        "dq = deque()\n",
        "for _ in range(n):\n",
        "  arr = input().split()\n",
        "  match arr[0]:\n",
        "    case \"push\":\n",
        "      dq.append(arr[1])\n",
        "    case \"pop\":\n",
        "      if len(dq)==0:\n",
        "        print(-1)\n",
        "      else:\n",
        "        print(dq.popleft())\n",
        "    case \"size\":\n",
        "      print(len(dq))\n",
        "    case \"empty\":\n",
        "      if len(dq)==0:\n",
        "        print(1)\n",
        "      else:\n",
        "        print(0)\n",
        "    case \"front\":\n",
        "      if len(dq)==0:\n",
        "        print(-1)\n",
        "      else:\n",
        "        print(dq[0])\n",
        "    case \"back\":\n",
        "      if len(dq)==0:\n",
        "        print(-1)\n",
        "      else:\n",
        "        print(dq[-1])"
      ],
      "metadata": {
        "id": "NojTd4UQytWs",
        "colab": {
          "base_uri": "https://localhost:8080/"
        },
        "outputId": "7266ec3f-4c69-4132-9858-5503d34e1d6f"
      },
      "execution_count": null,
      "outputs": [
        {
          "output_type": "stream",
          "name": "stdout",
          "text": [
            "15\n",
            "push 1\n",
            "push 2\n",
            "front\n",
            "1\n",
            "back\n",
            "2\n",
            "size\n",
            "2\n",
            "empty\n",
            "0\n",
            "pop\n",
            "1\n",
            "pop\n",
            "2\n",
            "pop\n",
            "-1\n",
            "size\n",
            "0\n",
            "empty\n",
            "1\n",
            "pop\n",
            "-1\n",
            "push 3\n",
            "empty\n",
            "0\n",
            "front\n",
            "3\n"
          ]
        }
      ]
    },
    {
      "cell_type": "code",
      "source": [
        "#10828. 스텍 문제\n",
        "from collections import deque\n",
        "# import sys\n",
        "# input = sys.stdin.readline\n",
        "n = int(input())\n",
        "dq = deque()\n",
        "for _ in range(n):\n",
        "  arr = input().split()\n",
        "  match arr[0]:\n",
        "    case \"push\":\n",
        "      dq.append(arr[1])\n",
        "    case \"pop\":\n",
        "      if len(dq)==0:\n",
        "        print(-1)\n",
        "      else:\n",
        "        print(dq.pop())\n",
        "    case \"size\":\n",
        "      print(len(dq))\n",
        "    case \"empty\":\n",
        "      if len(dq)==0:\n",
        "        print(1)\n",
        "      else:\n",
        "        print(0)\n",
        "    case \"top\":\n",
        "      if len(dq)==0:\n",
        "        print(-1)\n",
        "      else:\n",
        "        print(dq[-1])"
      ],
      "metadata": {
        "id": "OIgC-aXQtKaO",
        "colab": {
          "base_uri": "https://localhost:8080/"
        },
        "outputId": "c315642d-4edc-4ca1-d1b1-63f887b86a03"
      },
      "execution_count": null,
      "outputs": [
        {
          "output_type": "stream",
          "name": "stdout",
          "text": [
            "7\n",
            "pop\n",
            "-1\n",
            "top\n",
            "-1\n",
            "push 123\n",
            "top\n",
            "123\n",
            "pop\n",
            "123\n",
            "top\n",
            "-1\n",
            "pop\n",
            "-1\n"
          ]
        }
      ]
    },
    {
      "cell_type": "code",
      "source": [
        "#10828. 스텍 문제 개선\n",
        "# 1. pop만 쓰는 경우에는 deque보다 list가 더 빠르다\n",
        "# 2. case 문보다 if-else 문이 속도가 더 빠르다\n",
        "# 3. split가 매번 하는것보단 필요할 때만 하는게 속도 측면에 이득이다\n",
        "# 4. a if astack else b 사용...깔끔하니까..\n",
        "# import sys\n",
        "# input = sys.stdin.readline\n",
        "\n",
        "n = int(input())\n",
        "stack = []\n",
        "\n",
        "for _ in range(n):\n",
        "    cmd = input().strip()\n",
        "    if cmd.startswith(\"push\"):\n",
        "        _, num = cmd.split()\n",
        "        stack.append(num)\n",
        "    elif cmd == \"pop\":\n",
        "        print(stack.pop() if stack else -1)\n",
        "    elif cmd == \"size\":\n",
        "        print(len(stack))\n",
        "    elif cmd == \"empty\":\n",
        "        print(0 if stack else 1)\n",
        "    elif cmd == \"top\":\n",
        "        print(stack[-1] if stack else -1)"
      ],
      "metadata": {
        "id": "DEJPzZ6ZBjGM"
      },
      "execution_count": null,
      "outputs": []
    },
    {
      "cell_type": "code",
      "source": [
        "#10816. 숫자 카드 몇개 갖고 있는지\n",
        "# import sys\n",
        "# input = sys.stdin.readline\n",
        "N = int(input())\n",
        "arr = list(map(int, input().split()))\n",
        "dict_arr = {}\n",
        "for _ in range(N):\n",
        "  if str(arr[_]) in dict_arr:\n",
        "    dict_arr[str(arr[_])] = dict_arr.get(str(arr[_])) + 1\n",
        "  else:\n",
        "    dict_arr[str(arr[_])] = 1\n",
        "M = int(input())\n",
        "arr = list(map(int, input().split()))\n",
        "ans_arr = [0]*M\n",
        "for _ in range(M):\n",
        "  if str(arr[_]) in dict_arr:\n",
        "    ans_arr[_] = dict_arr[str(arr[_])]\n",
        "print(*ans_arr)"
      ],
      "metadata": {
        "colab": {
          "base_uri": "https://localhost:8080/"
        },
        "id": "FN4cjM48CVWM",
        "outputId": "16b923a8-c777-4820-9896-00b161125125"
      },
      "execution_count": null,
      "outputs": [
        {
          "output_type": "stream",
          "name": "stdout",
          "text": [
            "10\n",
            "6 3 2 10 10 10 -10 -10 7 3\n",
            "8\n",
            "10 9 -5 2 3 4 5 -10\n",
            "3 0 0 1 2 0 0 2\n"
          ]
        }
      ]
    },
    {
      "cell_type": "code",
      "source": [
        "#10816. 숫자 카드 몇개 갖고 있는지 더 좋은 버전(코드 참고)\n",
        "# Counter 모델 이용\n",
        "from collections import Counter\n",
        "import sys\n",
        "input = sys.stdin.readline\n",
        "\n",
        "n = int(input())\n",
        "n_card = Counter(map(int, input().split()))\n",
        "m = int(input())\n",
        "m_card = list(map(int, input().split()))\n",
        "\n",
        "print(*[n_card[c] for c in m_card])"
      ],
      "metadata": {
        "id": "vh3NMRUfHoR6"
      },
      "execution_count": null,
      "outputs": []
    },
    {
      "cell_type": "code",
      "source": [
        "#1920. A[1], A[2], …, A[N]이 주어져 있을 때, 이 안에 X 있는지 확인\n",
        "# set이 느리지 않아서 set 사용해서 if i in set 으로 풀어도 속도 빠름\n",
        "from collections import Counter\n",
        "# import sys\n",
        "# input = sys.stdin.readline\n",
        "\n",
        "N = int(input())\n",
        "arr = Counter(map(int, input().split()))\n",
        "M = int(input())\n",
        "m_arr = list(map(int, input().split()))\n",
        "for _ in range(M):\n",
        "  if arr[m_arr[_]] != 0 :\n",
        "    print(1)\n",
        "  else:\n",
        "    print(0)"
      ],
      "metadata": {
        "colab": {
          "base_uri": "https://localhost:8080/"
        },
        "id": "UjL1cWvPXhgR",
        "outputId": "eca77d5a-ab6d-419b-f2d9-8f0245c16855"
      },
      "execution_count": null,
      "outputs": [
        {
          "output_type": "stream",
          "name": "stdout",
          "text": [
            "5\n",
            "4 1 5 2 3\n",
            "5\n",
            "1 3 7 9 5\n",
            "1\n",
            "1\n",
            "0\n",
            "0\n",
            "1\n"
          ]
        }
      ]
    },
    {
      "cell_type": "code",
      "source": [
        "#11650.좌표 정렬\n",
        "# import sys\n",
        "# input = sys.stdin.readline\n",
        "N = int(input())\n",
        "arr = list()\n",
        "for _ in range(N):\n",
        "  arr.append(list(map(int, input().split())))\n",
        "arr.sort()\n",
        "for _ in range(N):\n",
        "  print(*arr[_])"
      ],
      "metadata": {
        "colab": {
          "base_uri": "https://localhost:8080/"
        },
        "id": "HbYxdbU2A-4P",
        "outputId": "8b33e3aa-f393-4e8c-e487-572e83b1be5c"
      },
      "execution_count": null,
      "outputs": [
        {
          "output_type": "stream",
          "name": "stdout",
          "text": [
            "5\n",
            "3 4\n",
            "1 1\n",
            "1 -1\n",
            "2 2\n",
            "3 3\n",
            "1 -1\n",
            "1 1\n",
            "2 2\n",
            "3 3\n",
            "3 4\n"
          ]
        }
      ]
    },
    {
      "cell_type": "code",
      "source": [
        "#10814.정보가 두개인 정렬\n",
        "#💡💡sort 함수에서 arr[]의 첫번째 항 int 기준으로 sort 하고 싶으면\n",
        "# 💡key=lambda x:(x[0])) 하기!!\n",
        "# 💡key=lambda x:(x[0], x[1])) -> [0]기준으로 하고 같은건 [1]기준으로 sort\n",
        "# import sys\n",
        "# input = sys.stdin.readline\n",
        "N = int(input())\n",
        "arr = list()\n",
        "for _ in range(N):\n",
        "  arr.append(input().split())\n",
        "arr.sort(key=lambda x:(int(x[0])))\n",
        "for _ in range(N):\n",
        "  print(*arr[_])"
      ],
      "metadata": {
        "colab": {
          "base_uri": "https://localhost:8080/"
        },
        "id": "bXQTnWEnKUEe",
        "outputId": "0ab2fc8f-c18b-48ca-e35e-f3d95b214341"
      },
      "execution_count": null,
      "outputs": [
        {
          "output_type": "stream",
          "name": "stdout",
          "text": [
            "3\n",
            "21 Junkyu\n",
            "21 Dohyun\n",
            "20 Sunyoung\n",
            "20 Sunyoung\n",
            "21 Junkyu\n",
            "21 Dohyun\n"
          ]
        }
      ]
    },
    {
      "cell_type": "code",
      "source": [
        "#2751. N개의 수가 주어졌을 때, 이를 오름차순으로 정렬하는 프로그램\n",
        "# 💡 sort 쓸 때 int형으로 바꾸는거 잊지 말자\n",
        "# import sys\n",
        "# input = sys.stdin.readline\n",
        "N = int(input())\n",
        "arr = list()\n",
        "for _ in range(N):\n",
        "  arr.append(int(input()))\n",
        "arr.sort()\n",
        "for _ in range(N):\n",
        "  print(arr[_])"
      ],
      "metadata": {
        "colab": {
          "base_uri": "https://localhost:8080/"
        },
        "id": "rycGJn2fXJ7a",
        "outputId": "35f9892c-3840-4a4d-8aee-fc3d9464a9f0"
      },
      "execution_count": null,
      "outputs": [
        {
          "output_type": "stream",
          "name": "stdout",
          "text": [
            "5\n",
            "5\n",
            "4\n",
            "3\n",
            "2\n",
            "1\n",
            "1\n",
            "2\n",
            "3\n",
            "4\n",
            "5\n"
          ]
        }
      ]
    },
    {
      "cell_type": "code",
      "source": [
        "#1181. 단어 정렬\n",
        "#💡💡 때로 테스트 input의 형식이 달라서 input().strip()을 사용할 필요가 있을 수 있다!\n",
        "# print(arr) all 할 때 for문 말고 print('\\n'.join(arr))을 사용하자 >> 깔끔\n",
        "# import sys\n",
        "# input = sys.stdin.readline\n",
        "N = int(input())\n",
        "arr = list()\n",
        "s_arr = set()\n",
        "for _ in range(N):\n",
        "  word = input().strip()\n",
        "  if word in s_arr:\n",
        "    continue\n",
        "  else:\n",
        "    s_arr.add(word)\n",
        "    arr.append(word)\n",
        "arr.sort(key=lambda x: (len(x), x))\n",
        "print('\\n'.join(arr))"
      ],
      "metadata": {
        "colab": {
          "base_uri": "https://localhost:8080/"
        },
        "id": "WdeBs-zQXjHK",
        "outputId": "d80447bf-3a73-4613-a895-e2bd4f3452d6"
      },
      "execution_count": null,
      "outputs": [
        {
          "output_type": "stream",
          "name": "stdout",
          "text": [
            "2\n",
            "as\n",
            "ad\n",
            "ad\n",
            "as\n"
          ]
        }
      ]
    },
    {
      "cell_type": "code",
      "source": [
        "#11050"
      ],
      "metadata": {
        "id": "d-eGvZzyWrlQ"
      },
      "execution_count": null,
      "outputs": []
    }
  ]
}