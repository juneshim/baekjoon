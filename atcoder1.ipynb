{
  "nbformat": 4,
  "nbformat_minor": 0,
  "metadata": {
    "colab": {
      "provenance": [],
      "authorship_tag": "ABX9TyOMG64NyurD83LRnkrpBs5p",
      "include_colab_link": true
    },
    "kernelspec": {
      "name": "python3",
      "display_name": "Python 3"
    },
    "language_info": {
      "name": "python"
    }
  },
  "cells": [
    {
      "cell_type": "markdown",
      "metadata": {
        "id": "view-in-github",
        "colab_type": "text"
      },
      "source": [
        "<a href=\"https://colab.research.google.com/github/juneshim/baekjoon/blob/main/atcoder1.ipynb\" target=\"_parent\"><img src=\"https://colab.research.google.com/assets/colab-badge.svg\" alt=\"Open In Colab\"/></a>"
      ]
    },
    {
      "cell_type": "markdown",
      "source": [
        "#Practice contest"
      ],
      "metadata": {
        "id": "_5xHn8EVj5Dz"
      }
    },
    {
      "cell_type": "code",
      "execution_count": null,
      "metadata": {
        "colab": {
          "base_uri": "https://localhost:8080/"
        },
        "id": "t5-fzYRmj1Yy",
        "outputId": "3340d6b0-1412-43d1-9ab8-25cd4054ca32"
      },
      "outputs": [
        {
          "output_type": "stream",
          "name": "stdout",
          "text": [
            "1\n",
            "2 3\n",
            "sd\n",
            "6 sd\n"
          ]
        }
      ],
      "source": [
        "#A - Welcome to AtCoder\n",
        "a = int(input())\n",
        "b , c = map(int, input().split())\n",
        "s = input()\n",
        "print(a+b+c, s)"
      ]
    },
    {
      "cell_type": "code",
      "source": [
        "#B - Interactive Sorting\n",
        "# 💡 flush=True 해야 함\n",
        "def merge_sort(arr, p, r) :\n",
        "  # 재귀를 이용해서 배열 arr 크기를 1까지 쪼개고 합치기. 이때 실제 쪼개는게 아니라 인덱스 p, q, r 사용\n",
        "  if p < r :\n",
        "    q = (p+r)//2\n",
        "    merge_sort(arr, p, q) # 전반부\n",
        "    merge_sort(arr, q+1, r) # 후반부\n",
        "    merge(arr, p, q, r)\n",
        "\n",
        "def merge(arr, p, q, r) :\n",
        "  # 오름차순으로 합치기\n",
        "  tmp_arr = []\n",
        "  i = p\n",
        "  j = q+1\n",
        "  while i <= q and j <= r :\n",
        "    print(\"?\", n_dict[arr[i]], n_dict[arr[j]], flush=True)\n",
        "    ans = input().strip()\n",
        "    if ans == \"<\":\n",
        "      tmp_arr.append(arr[i])\n",
        "      i += 1\n",
        "    else:\n",
        "      tmp_arr.append(arr[j])\n",
        "      j += 1\n",
        "  while i <= q :\n",
        "    tmp_arr.append(arr[i])\n",
        "    i += 1\n",
        "  while j <= r :\n",
        "    tmp_arr.append(arr[j])\n",
        "    j += 1\n",
        "  # arr에 반영\n",
        "  i = p\n",
        "  for idx in range(len(tmp_arr)) :\n",
        "    arr[i] = tmp_arr[idx]\n",
        "    i += 1\n",
        "\n",
        "# 나중에 다시 풀기\n",
        "def sort_5(arr):\n",
        "  merge_sort(arr, 0, 2)\n",
        "  merge_sort(arr, 3, 4)\n",
        "  if arr[2] < arr[4] :\n",
        "    if arr[2] < arr[3] :\n",
        "      # arr : 1 2 3 4 5\n",
        "      pass\n",
        "    else :\n",
        "      if arr[1] < arr[3] :\n",
        "        # arr : 1 2 4 3 5\n",
        "        pass\n",
        "      else :\n",
        "        if arr[0] < arr[3] :\n",
        "          # arr: 1 4 2 3 5\n",
        "          pass\n",
        "        else :\n",
        "          # arr: 4 1 2 3 5\n",
        "          pass\n",
        "  else :\n",
        "    if arr[1] < arr[4] :\n",
        "      if arr[1] < arr[3] :\n",
        "        # arr : 1 2 3 4 5\n",
        "        pass\n",
        "      else:\n",
        "        pass\n",
        "\n",
        "\n",
        "# 0:A, 1:B...매핑\n",
        "n_dict = {0:\"A\", 1:\"B\", 2:\"C\", 3:\"D\", 4:\"E\", 5:\"F\", 6:\"G\", 7:\"H\", 8:\"I\", 9:\"J\", 10:\"K\",\n",
        "          11:\"L\", 12:\"M\", 13:\"N\", 14:\"O\", 15:\"P\", 16:\"Q\", 17:\"R\", 18:\"S\", 19:\"T\", 20:\"U\",\n",
        "          21:\"V\", 22:\"W\", 23:\"X\", 24:\"Y\", 25:\"Z\"}\n",
        "\n",
        "N, Q = map(int, input().split())\n",
        "arr = list(range(N))\n",
        "p = 0\n",
        "r = N-1\n",
        "if N == 26 :\n",
        "  merge_sort(arr, p, r)\n",
        "elif N == 5 :\n",
        "  # 5인 경우에는 최대 8보다 1번 줄일 수 있게 코드 만들어야 함\n",
        "  sort_5(arr)\n",
        "\n",
        "for i in range(len(arr)):\n",
        "  arr[i] = n_dict[arr[i]]\n",
        "print(\"!\",\"\".join(arr))"
      ],
      "metadata": {
        "colab": {
          "base_uri": "https://localhost:8080/"
        },
        "id": "JauwMuwak9ER",
        "outputId": "8db90ce5-0dda-457e-ac00-3c79c98c9cda"
      },
      "execution_count": 36,
      "outputs": [
        {
          "output_type": "stream",
          "name": "stdout",
          "text": [
            "3 5\n",
            "? A B\n",
            ">\n",
            "? B C\n",
            ">\n",
            "! CBA\n"
          ]
        }
      ]
    }
  ]
}