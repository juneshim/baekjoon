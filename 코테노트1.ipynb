{
  "nbformat": 4,
  "nbformat_minor": 0,
  "metadata": {
    "colab": {
      "provenance": [],
      "authorship_tag": "ABX9TyNTeeWLhLH1BC/Fwp5JaFJu",
      "include_colab_link": true
    },
    "kernelspec": {
      "name": "python3",
      "display_name": "Python 3"
    },
    "language_info": {
      "name": "python"
    }
  },
  "cells": [
    {
      "cell_type": "markdown",
      "metadata": {
        "id": "view-in-github",
        "colab_type": "text"
      },
      "source": [
        "<a href=\"https://colab.research.google.com/github/juneshim/baekjoon/blob/main/%EC%BD%94%ED%85%8C%EB%85%B8%ED%8A%B81.ipynb\" target=\"_parent\"><img src=\"https://colab.research.google.com/assets/colab-badge.svg\" alt=\"Open In Colab\"/></a>"
      ]
    },
    {
      "cell_type": "markdown",
      "source": [
        "##입출력과 사칙연산"
      ],
      "metadata": {
        "id": "d9sROpzZ1bBS"
      }
    },
    {
      "cell_type": "code",
      "execution_count": null,
      "metadata": {
        "colab": {
          "base_uri": "https://localhost:8080/"
        },
        "id": "OQoBnsl_m5rX",
        "outputId": "6a03f504-c286-4f88-883a-d617531e5062"
      },
      "outputs": [
        {
          "output_type": "stream",
          "name": "stdout",
          "text": [
            "Hello World!\n"
          ]
        }
      ],
      "source": [
        "#2557. Hello World! 출력\n",
        "print(\"Hello World!\")"
      ]
    },
    {
      "cell_type": "code",
      "source": [
        "#1000. 두 정수 A와 B를 입력받은 다음, A+B를 출력하는 프로그램을 작성하시오.\n",
        "arr = input().split()\n",
        "total = 0\n",
        "for x in arr:\n",
        "    total += int(x)\n",
        "print(total)\n"
      ],
      "metadata": {
        "colab": {
          "base_uri": "https://localhost:8080/"
        },
        "id": "7TucctjYnDRM",
        "outputId": "2ef72f66-d1bb-44dd-8461-66fa4cf9d94d"
      },
      "execution_count": null,
      "outputs": [
        {
          "output_type": "stream",
          "name": "stdout",
          "text": [
            "1 2\n",
            "3\n"
          ]
        }
      ]
    },
    {
      "cell_type": "code",
      "source": [
        "#1001. 두 정수 A와 B를 입력받은 다음, A-B를 출력하는 프로그램을 작성하시오.\n",
        "arr = input().split()\n",
        "print(int(arr[0])-int(arr[1]))"
      ],
      "metadata": {
        "colab": {
          "base_uri": "https://localhost:8080/"
        },
        "id": "1GZihxK0oDy_",
        "outputId": "b89e2f3b-e713-49ee-ff6b-9d628f3995c5"
      },
      "execution_count": null,
      "outputs": [
        {
          "output_type": "stream",
          "name": "stdout",
          "text": [
            "1 2\n",
            "-1\n"
          ]
        }
      ]
    },
    {
      "cell_type": "code",
      "source": [
        "#10998. 두 정수 A와 B를 입력받은 다음, A×B를 출력하는 프로그램을 작성하시오.\n",
        "arr = input().split()\n",
        "total = int(arr[0]) * int(arr[1])\n",
        "print(total)"
      ],
      "metadata": {
        "colab": {
          "base_uri": "https://localhost:8080/"
        },
        "id": "D06W36Mjo1_i",
        "outputId": "c5d6cc3b-a959-4ca9-d632-cf832d7874e5"
      },
      "execution_count": null,
      "outputs": [
        {
          "output_type": "stream",
          "name": "stdout",
          "text": [
            "1 2\n",
            "2\n"
          ]
        }
      ]
    },
    {
      "cell_type": "code",
      "source": [
        "#1008.두 정수 A와 B를 입력받은 다음, A/B를 출력하는 프로그램을 작성하시오.\n",
        "arr = input().split()\n",
        "total = int(arr[0])/int(arr[1])\n",
        "print(total)"
      ],
      "metadata": {
        "colab": {
          "base_uri": "https://localhost:8080/"
        },
        "id": "zPkTZyXCpaLb",
        "outputId": "503c29bf-9a56-45bb-9245-05dc969bcd22"
      },
      "execution_count": null,
      "outputs": [
        {
          "output_type": "stream",
          "name": "stdout",
          "text": [
            "1 2\n",
            "0.5\n"
          ]
        }
      ]
    },
    {
      "cell_type": "code",
      "source": [
        "#10869. 두 자연수 A와 B가 주어진다. 이때, A+B, A-B, A*B, A/B(몫), A%B(나머지)를 출력하는 프로그램을 작성하시오.\n",
        "arr = input().split()\n",
        "sum = int(arr[0])+int(arr[1])\n",
        "sub = int(arr[0])-int(arr[1])\n",
        "mul = int(arr[0])*int(arr[1])\n",
        "div = int(int(arr[0])/int(arr[1]))\n",
        "mod = int(arr[0])%int(arr[1])\n",
        "\n",
        "print(sum)\n",
        "print(sub)\n",
        "print(mul)\n",
        "print(div)\n",
        "print(mod)\n"
      ],
      "metadata": {
        "colab": {
          "base_uri": "https://localhost:8080/"
        },
        "id": "WTEBC-gnpeTd",
        "outputId": "027ebe3b-c108-4571-c058-f95ce1523533"
      },
      "execution_count": null,
      "outputs": [
        {
          "output_type": "stream",
          "name": "stdout",
          "text": [
            "7 3\n",
            "10\n",
            "4\n",
            "21\n",
            "2\n",
            "1\n"
          ]
        }
      ]
    },
    {
      "cell_type": "code",
      "source": [
        "#10926. 입력 문자 뒤에 ??!를 붙여서 출력\n",
        "id = input()\n",
        "print(id+\"??!\")"
      ],
      "metadata": {
        "colab": {
          "base_uri": "https://localhost:8080/"
        },
        "id": "1VpEHMWnpex9",
        "outputId": "96d7165a-fd53-4640-c40d-81df374a14c7"
      },
      "execution_count": null,
      "outputs": [
        {
          "output_type": "stream",
          "name": "stdout",
          "text": [
            "1 2\n",
            "1 2??!\n"
          ]
        }
      ]
    },
    {
      "cell_type": "code",
      "source": [
        "#18108. 불기 연도를 서기 연도로 변환한 결과를 출력\n",
        "num = input()\n",
        "year = int(num) - 2541 + 1998\n",
        "print(year)"
      ],
      "metadata": {
        "id": "qRciTTNHpfDq",
        "colab": {
          "base_uri": "https://localhost:8080/"
        },
        "outputId": "6a1e2e3f-4700-4e2e-80bc-242915685741"
      },
      "execution_count": null,
      "outputs": [
        {
          "output_type": "stream",
          "name": "stdout",
          "text": [
            "2541\n",
            "1998\n"
          ]
        }
      ]
    },
    {
      "cell_type": "code",
      "source": [
        "#10430. 첫째 줄에 (A+B)%C, 둘째 줄에 ((A%C) + (B%C))%C, 셋째 줄에 (A×B)%C, 넷째 줄에 ((A%C) × (B%C))%C를 출력\n",
        "arr = input().split()\n",
        "\n",
        "A = int(arr[0])\n",
        "B = int(arr[1])\n",
        "C = int(arr[2])\n",
        "\n",
        "l1  = int((A+B)%C)\n",
        "l2 = int((int((A%C)) + int((B%C)))%C)\n",
        "l3 = int(int((A*B))%C)\n",
        "l4 = int((int((A%C)) * int((B%C)))%C)\n",
        "\n",
        "print(l1)\n",
        "print(l2)\n",
        "print(l3)\n",
        "print(l4)"
      ],
      "metadata": {
        "colab": {
          "base_uri": "https://localhost:8080/"
        },
        "id": "c5-659RyuwuV",
        "outputId": "deee0ff2-4024-4282-ede3-ebe983be92b3"
      },
      "execution_count": null,
      "outputs": [
        {
          "output_type": "stream",
          "name": "stdout",
          "text": [
            "5 8 4\n",
            "1\n",
            "1\n",
            "0\n",
            "0\n"
          ]
        }
      ]
    },
    {
      "cell_type": "code",
      "source": [
        "#2588.(세 자리 수) × (세 자리 수) 과정 출력\n",
        "n1 = int(input())\n",
        "n2 = int(input())\n",
        "\n",
        "l1 = n1*(n2%10)\n",
        "l2 = n1*(int(n2/10)%10)\n",
        "l3 = n1*int(n2/100)\n",
        "\n",
        "print(l1)\n",
        "print(l2)\n",
        "print(l3)\n",
        "print(n1*n2)"
      ],
      "metadata": {
        "colab": {
          "base_uri": "https://localhost:8080/"
        },
        "id": "6YEXy0MhvPTG",
        "outputId": "292a469e-d417-43a2-9b33-0159341b65aa"
      },
      "execution_count": null,
      "outputs": [
        {
          "output_type": "stream",
          "name": "stdout",
          "text": [
            "472 \n",
            "385\n",
            "2360\n",
            "3776\n",
            "1416\n",
            "181720\n"
          ]
        }
      ]
    },
    {
      "cell_type": "code",
      "source": [
        "#11382. A+B+C의 값을 출력\n",
        "arr = input().split()\n",
        "total = int(arr[0]) + int(arr[1]) + int(arr[2])\n",
        "\n",
        "print(total)\n"
      ],
      "metadata": {
        "colab": {
          "base_uri": "https://localhost:8080/"
        },
        "id": "SZ8K8OFmx-07",
        "outputId": "8446451f-0e91-4623-e279-41c101452cee"
      },
      "execution_count": null,
      "outputs": [
        {
          "output_type": "stream",
          "name": "stdout",
          "text": [
            "1 2 3 \n",
            "6\n"
          ]
        }
      ]
    },
    {
      "cell_type": "code",
      "source": [
        "#10171. 고양이 모양 출력\n",
        "print(r\"\"\"\\    /\\\n",
        " )  ( ')\n",
        "(  /  )\n",
        " \\(__)|\"\"\")"
      ],
      "metadata": {
        "colab": {
          "base_uri": "https://localhost:8080/"
        },
        "id": "tuI5LNrhyrVF",
        "outputId": "cafebeca-9aa1-4cfd-f2a1-87d57f0506ed"
      },
      "execution_count": null,
      "outputs": [
        {
          "output_type": "stream",
          "name": "stdout",
          "text": [
            "\\    /\\\n",
            " )  ( ')\n",
            "(  /  )\n",
            " \\(__)|\n"
          ]
        }
      ]
    },
    {
      "cell_type": "code",
      "source": [
        "#10172. 개 모양 출력 << 💡\n",
        "print(r\"|\\_/|\")\n",
        "print(r\"|q p|   /}\")\n",
        "print(r\"( 0 )\"+'\"\"'+ \"\\\"\\\\\")\n",
        "print(r'|\"^\"`    |')\n",
        "print(r\"||_/=\\\\__|\")"
      ],
      "metadata": {
        "colab": {
          "base_uri": "https://localhost:8080/"
        },
        "id": "Ucm98RbjzOHq",
        "outputId": "cd599e64-2755-4b29-c6ec-913aa72995b3"
      },
      "execution_count": null,
      "outputs": [
        {
          "output_type": "stream",
          "name": "stdout",
          "text": [
            "|\\_/|\n",
            "|q p|   /}\n",
            "( 0 )\"\"\"\\\n",
            "|\"^\"`    |\n",
            "||_/=\\\\__|\n"
          ]
        }
      ]
    },
    {
      "cell_type": "markdown",
      "source": [
        "##조건문"
      ],
      "metadata": {
        "id": "_PYy1GGu1e3Y"
      }
    },
    {
      "cell_type": "code",
      "source": [
        "#1330. 두 정수 A와 B가 주어졌을 때, A와 B를 비교하는 프로그램\n",
        "arr = input().split()\n",
        "\n",
        "def print_case(arr):\n",
        "  if int(arr[0]) > int(arr[1]) :\n",
        "    return(\">\")\n",
        "  elif int(arr[0]) < int(arr[1]) :\n",
        "    return(\"<\")\n",
        "  elif int(arr[0]) == int(arr[1]) :\n",
        "    return(\"==\")\n",
        "\n",
        "a = print_case(arr)\n",
        "print(a)"
      ],
      "metadata": {
        "colab": {
          "base_uri": "https://localhost:8080/"
        },
        "id": "eZJdq2051hHa",
        "outputId": "47c8380f-ffc7-4b78-9215-fd840597d511"
      },
      "execution_count": null,
      "outputs": [
        {
          "output_type": "stream",
          "name": "stdout",
          "text": [
            "9 10\n",
            "<\n"
          ]
        }
      ]
    },
    {
      "cell_type": "code",
      "source": [
        "#9498. 시험 점수를 입력받아 90 ~ 100점은 A, 80 ~ 89점은 B, 70 ~ 79점은 C, 60 ~ 69점은 D, 나머지 점수는 F를 출력하는 프로그램\n",
        "arr = input()\n",
        "\n",
        "def print_grade(arr):\n",
        "  if int(arr) >= 90 :\n",
        "    return(\"A\")\n",
        "  elif int(arr) >= 80 :\n",
        "    return(\"B\")\n",
        "  elif int(arr) >= 70 :\n",
        "    return(\"C\")\n",
        "  elif int(arr) >= 60 :\n",
        "    return(\"D\")\n",
        "  else :\n",
        "    return(\"F\")\n",
        "\n",
        "a = print_grade(arr)\n",
        "print(a)"
      ],
      "metadata": {
        "colab": {
          "base_uri": "https://localhost:8080/"
        },
        "id": "geQOXRH44vb0",
        "outputId": "10df2ead-bbdf-47cd-ff4b-3dfd38453f25"
      },
      "execution_count": null,
      "outputs": [
        {
          "output_type": "stream",
          "name": "stdout",
          "text": [
            "55\n",
            "F\n"
          ]
        }
      ]
    },
    {
      "cell_type": "code",
      "source": [
        "#2753. 연도가 주어졌을 때, 윤년이면 1, 아니면 0을 출력하는 프로그램\n",
        "year = input()\n",
        "\n",
        "def is_leap_year(year):\n",
        "  if int(year)%4==0 and int(year)%100!=0 :\n",
        "    return 1\n",
        "  elif int(year)%4==0 and int(year)%400==0 :\n",
        "    return 1\n",
        "  else :\n",
        "    return 0\n",
        "\n",
        "a = is_leap_year(year)\n",
        "print(a)"
      ],
      "metadata": {
        "colab": {
          "base_uri": "https://localhost:8080/"
        },
        "id": "cIMcwG0p6BOP",
        "outputId": "8823d9ff-5689-4a17-a458-dfe31ff2f6fc"
      },
      "execution_count": null,
      "outputs": [
        {
          "output_type": "stream",
          "name": "stdout",
          "text": [
            "1999\n",
            "0\n"
          ]
        }
      ]
    },
    {
      "cell_type": "code",
      "source": [
        "#14681. 점 (x, y)의 사분면 번호(1, 2, 3, 4 중 하나)를 출력\n",
        "x = input()\n",
        "y = input()\n",
        "\n",
        "def quadrant_num(x,y) :\n",
        "  if int(x)>0 and int(y)>0 :\n",
        "    return 1\n",
        "  elif int(x)<0 and int(y)>0 :\n",
        "    return 2\n",
        "  elif int(x)<0 and int(y)<0 :\n",
        "    return 3\n",
        "  else :\n",
        "    return 4\n",
        "\n",
        "n = quadrant_num(x,y)\n",
        "print(n)"
      ],
      "metadata": {
        "colab": {
          "base_uri": "https://localhost:8080/"
        },
        "id": "fsl-ndyB8ujz",
        "outputId": "8e9f3853-bee0-4312-93cb-9e97b4e03c91"
      },
      "execution_count": null,
      "outputs": [
        {
          "output_type": "stream",
          "name": "stdout",
          "text": [
            "-111\n",
            "-111\n",
            "4\n"
          ]
        }
      ]
    },
    {
      "cell_type": "code",
      "source": [
        "#2884. 45분 일찍 알람 설정하기\n",
        "time = input().split()\n",
        "\n",
        "def alarm_time(time) :\n",
        "  hour = int(time[0])\n",
        "  min = int(time[1])\n",
        "\n",
        "  if min >= 45 :\n",
        "    return (time[0] + \" \" + str(min-45))\n",
        "  elif hour == 0 :\n",
        "    return (\"23\" + \" \" + str(min+15))\n",
        "  else :\n",
        "    return (str(hour-1) + \" \" + str(min+15))\n",
        "\n",
        "a = alarm_time(time)\n",
        "print(a)"
      ],
      "metadata": {
        "colab": {
          "base_uri": "https://localhost:8080/"
        },
        "id": "7CmdRD8i_IxV",
        "outputId": "4058c4a8-2192-4a28-b8de-9428fb842660"
      },
      "execution_count": null,
      "outputs": [
        {
          "output_type": "stream",
          "name": "stdout",
          "text": [
            "23 40\n",
            "22 55\n"
          ]
        }
      ]
    },
    {
      "cell_type": "code",
      "source": [
        "#2525. n분 후의 시간\n",
        "time1 = input().split()\n",
        "time2 = input()\n",
        "\n",
        "def alarm_time2(time1, time2) :\n",
        "  hour = int(time1[0])\n",
        "  min1 = int(time1[1])\n",
        "  min2 = int(time2)\n",
        "\n",
        "# 1. 분 계산\n",
        "  a_min = (min1+min2)%60\n",
        "\n",
        "# 2. 시간 계산\n",
        "  a_hour = int(int(hour + int((min1+min2)/60))%24)\n",
        "\n",
        "  return str(a_hour) + \" \" + str(a_min)\n",
        "\n",
        "a = alarm_time2(time1, time2)\n",
        "print(a)"
      ],
      "metadata": {
        "colab": {
          "base_uri": "https://localhost:8080/"
        },
        "id": "gRlKML6VCP4l",
        "outputId": "0df3cfe8-2819-4eee-e2f6-4fb4523d1597"
      },
      "execution_count": null,
      "outputs": [
        {
          "output_type": "stream",
          "name": "stdout",
          "text": [
            "23 48\n",
            "25\n",
            "0 13\n"
          ]
        }
      ]
    },
    {
      "cell_type": "code",
      "source": [
        "#2480. 3개 주사위의 나온 눈이 주어질 때, 상금을 계산하는 프로그램\n",
        "arr = input().split()\n",
        "\n",
        "def prize_calc(arr) :\n",
        "  # 같은 눈 찾기\n",
        "  same_n = 0\n",
        "  if arr[0] == arr[1] :\n",
        "    same_n = int(arr[0])\n",
        "  if arr[0] == arr[2] :\n",
        "    same_n = int(arr[0])\n",
        "  if arr[1] == arr[2] :\n",
        "    same_n = int(arr[1])\n",
        "\n",
        "  #가장 큰 눈 찾기\n",
        "  big_n = int(arr[0])\n",
        "  if int(arr[1]) > int(arr[0]) :\n",
        "    big_n = int(arr[1])\n",
        "    if int(arr[2]) > int(arr[1]) :\n",
        "      big_n = int(arr[2])\n",
        "  if int(arr[2]) > int(arr[0]) :\n",
        "    big_n = int(arr[2])\n",
        "    if int(arr[1]) > int(arr[2]) :\n",
        "      big_n = int(arr[1])\n",
        "\n",
        "  if arr[0] == arr[1] == arr[2] :\n",
        "    return 10000 + int(arr[0])*1000\n",
        "  elif same_n > 0 :\n",
        "    return 1000 + same_n*100\n",
        "  else :\n",
        "    return big_n*100\n",
        "\n",
        "a = prize_calc(arr)\n",
        "print(a)"
      ],
      "metadata": {
        "colab": {
          "base_uri": "https://localhost:8080/"
        },
        "id": "AQiffJXdFbvW",
        "outputId": "ade9587c-a791-426c-adf2-8ecff9da5a49"
      },
      "execution_count": null,
      "outputs": [
        {
          "output_type": "stream",
          "name": "stdout",
          "text": [
            "6 2 5\n",
            "600\n"
          ]
        }
      ]
    },
    {
      "cell_type": "markdown",
      "source": [
        "## 기하 1: 직사각형과 삼각형"
      ],
      "metadata": {
        "id": "ES7Yzg0vZ9lr"
      }
    },
    {
      "cell_type": "code",
      "source": [
        "#27323. 세로 길이가 A cm, 가로 길이가 B cm인 직사각형의 넓이 계산\n",
        "n1 = input()\n",
        "n2 = input()\n",
        "\n",
        "a = int(n1)*int(n2)\n",
        "print(a)"
      ],
      "metadata": {
        "colab": {
          "base_uri": "https://localhost:8080/"
        },
        "id": "QH1N6cldaAn6",
        "outputId": "5d30afb7-8903-4d50-c16b-3ec2b4d4992d"
      },
      "execution_count": null,
      "outputs": [
        {
          "output_type": "stream",
          "name": "stdout",
          "text": [
            "1\n",
            "100\n",
            "100\n"
          ]
        }
      ]
    },
    {
      "cell_type": "code",
      "source": [
        "#1085. 직사각형 안에서 가장 가까운 가장자리까지의 거리\n",
        "arr = input().split()\n",
        "x = int(arr[0])\n",
        "y = int(arr[1])\n",
        "w = int(arr[2])\n",
        "h = int(arr[3])\n",
        "\n",
        "def smallist(x, y, w, h) :\n",
        "  n1 = min(x, y, w, h)\n",
        "  n2 = w - x\n",
        "  n3 = h - y\n",
        "\n",
        "  return min(n1, n2, n3)\n",
        "\n",
        "a = smallist(x, y, w, h)\n",
        "print(a)"
      ],
      "metadata": {
        "colab": {
          "base_uri": "https://localhost:8080/"
        },
        "id": "GiiNT57NatfT",
        "outputId": "b462fe1a-49a2-4aa1-d16f-f2abb7447f14"
      },
      "execution_count": null,
      "outputs": [
        {
          "output_type": "stream",
          "name": "stdout",
          "text": [
            "161 181 762 375\n",
            "161\n"
          ]
        }
      ]
    },
    {
      "cell_type": "code",
      "source": [
        "#3009. 세 점이 주어졌을 때, 축에 평행한 직사각형을 만들기 위해서 필요한 네 번째 점을 찾는 프로그램\n",
        "p1 = input().split()\n",
        "p2 = input().split()\n",
        "p3 = input().split()\n",
        "\n",
        "x1 = int(p1[0])\n",
        "x2 = int(p2[0])\n",
        "x3 = int(p3[0])\n",
        "y1 = int(p1[1])\n",
        "y2 = int(p2[1])\n",
        "y3 = int(p3[1])\n",
        "\n",
        "def only_num(n1, n2, n3) :\n",
        "  n = 0\n",
        "  if n1 == n2 :\n",
        "    n = n3\n",
        "  elif n1 == n3 :\n",
        "    n = n2\n",
        "  else :\n",
        "    n = n1\n",
        "  return n\n",
        "\n",
        "x = only_num(x1, x2, x3)\n",
        "y = only_num(y1, y2, y3)\n",
        "print(str(x) + \" \" + str(y))"
      ],
      "metadata": {
        "colab": {
          "base_uri": "https://localhost:8080/"
        },
        "id": "2rNNhG1tfC2G",
        "outputId": "ee871afe-8abd-41d8-c6c8-7ce07307bf6d"
      },
      "execution_count": null,
      "outputs": [
        {
          "output_type": "stream",
          "name": "stdout",
          "text": [
            "5 5\n",
            "7 5\n",
            "5 7\n",
            "7 7\n"
          ]
        }
      ]
    },
    {
      "cell_type": "code",
      "source": [
        "#15894. 사각형으로 만든 삼각형 모양의 둘레\n",
        "n = input()\n",
        "\n",
        "def perimeter_func(n) :\n",
        "  return 4*int(n)\n",
        "\n",
        "print(perimeter_func(n))"
      ],
      "metadata": {
        "colab": {
          "base_uri": "https://localhost:8080/"
        },
        "id": "ESG_CuQUgCJ6",
        "outputId": "9106accb-51ae-4b87-dd73-61486cf30316"
      },
      "execution_count": null,
      "outputs": [
        {
          "output_type": "stream",
          "name": "stdout",
          "text": [
            "2\n",
            "8\n"
          ]
        }
      ]
    },
    {
      "cell_type": "code",
      "source": [
        "#9063. 대지 크기\n",
        "n_num = input().split()\n",
        "arr_x = []\n",
        "arr_y = []\n",
        "for i in range(int(n_num[0])) :\n",
        "  arr = input().split()\n",
        "  arr_x.append(int(arr[0]))\n",
        "  arr_y.append(int(arr[1]))\n",
        "\n",
        "def wide_func(arr_x, arr_y) :\n",
        "  x1 = min(arr_x)\n",
        "  x2 = max(arr_x)\n",
        "  y1 = min(arr_y)\n",
        "  y2 = max(arr_y)\n",
        "\n",
        "  return (x2 - x1) * (y2 - y1)\n",
        "\n",
        "print(wide_func(arr_x, arr_y))"
      ],
      "metadata": {
        "colab": {
          "base_uri": "https://localhost:8080/"
        },
        "id": "N0NCW-N6iWf2",
        "outputId": "b5d802ec-c8e3-4a0f-8b56-b1d0f11d4c1c"
      },
      "execution_count": null,
      "outputs": [
        {
          "output_type": "stream",
          "name": "stdout",
          "text": [
            "1\n",
            "15 13\n",
            "0\n"
          ]
        }
      ]
    },
    {
      "cell_type": "code",
      "source": [
        "#10101. 총 3개의 각이 삼각형이 Equilateral, Isosceles, Scalene, Error 인지 출력\n",
        "p1 = int(input())\n",
        "p2 = int(input())\n",
        "p3 = int(input())\n",
        "\n",
        "def what_tri(p1, p2, p3) :\n",
        "  if p1 == p2 and p2 == p3 and p3 == 60 :\n",
        "    return \"Equilateral\"\n",
        "  elif p1 == p2 or p2 == p3 or p1 == p3 :\n",
        "    if p1+p2+p3 == 180 :\n",
        "      return \"Isosceles\"\n",
        "    else :\n",
        "      return \"Error\"\n",
        "  elif p1+p2+p3 == 180 :\n",
        "    return \"Scalene\"\n",
        "  else :\n",
        "    return \"Error\"\n",
        "\n",
        "print(what_tri(p1, p2, p3))"
      ],
      "metadata": {
        "colab": {
          "base_uri": "https://localhost:8080/"
        },
        "id": "a6lA4IUyn1ZY",
        "outputId": "5e210d7d-e5ce-4d6a-abd5-3505611f8e88"
      },
      "execution_count": null,
      "outputs": [
        {
          "output_type": "stream",
          "name": "stdout",
          "text": [
            "60\n",
            "70\n",
            "50\n",
            "Scalene\n"
          ]
        }
      ]
    },
    {
      "cell_type": "code",
      "source": [
        "#5073. 세 변의 길이가 주어질 때 Equilateral, Isosceles, Scalene, Invalid 중 뭔지\n",
        "def what_tri(arr) :\n",
        "  if arr[0] == arr[1] == arr[2]:\n",
        "    return \"Equilateral\"\n",
        "  elif arr[0] == arr[1] or arr[1] == arr[2] or arr[0] == arr[2] :\n",
        "    if  sum(arr) - max(arr) > max(arr) :\n",
        "      return \"Isosceles\"\n",
        "    else :\n",
        "      return \"Invalid\"\n",
        "  elif sum(arr) - max(arr) > max(arr) :\n",
        "    return \"Scalene\"\n",
        "  else :\n",
        "    return \"Invalid\"\n",
        "\n",
        "list_n = []\n",
        "while True :\n",
        "  arr = [int(x) for x in (input().split())]\n",
        "  if arr[0] == 0 :\n",
        "    break\n",
        "  list_n.append(arr)\n",
        "\n",
        "for i in list_n :\n",
        "  print(what_tri(i))"
      ],
      "metadata": {
        "colab": {
          "base_uri": "https://localhost:8080/"
        },
        "id": "V4pJ6wQkqAGm",
        "outputId": "9492c112-9e6e-47b2-be24-16aa63a90a2f"
      },
      "execution_count": null,
      "outputs": [
        {
          "output_type": "stream",
          "name": "stdout",
          "text": [
            "1 2 3\n",
            "0 0 0\n",
            "Invalid\n"
          ]
        }
      ]
    },
    {
      "cell_type": "code",
      "source": [
        "#14215. 삼각형 최대 둘레\n",
        "arr = [int(x) for x in (input().split())]\n",
        "\n",
        "def max_calc(arr) :\n",
        "  if sum(arr) - max(arr) > max(arr) :\n",
        "    return sum(arr)\n",
        "  else :\n",
        "    return 2* (sum(arr) - max(arr)) - 1\n",
        "\n",
        "print(max_calc(arr))"
      ],
      "metadata": {
        "colab": {
          "base_uri": "https://localhost:8080/"
        },
        "id": "B7pxbclvFxuu",
        "outputId": "7a85a225-b88d-4131-bdcd-34a8c8df12bb"
      },
      "execution_count": null,
      "outputs": [
        {
          "output_type": "stream",
          "name": "stdout",
          "text": [
            "41 64 16\n",
            "113\n"
          ]
        }
      ]
    }
  ]
}