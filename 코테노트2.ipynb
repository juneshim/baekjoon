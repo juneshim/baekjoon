{
  "nbformat": 4,
  "nbformat_minor": 0,
  "metadata": {
    "colab": {
      "provenance": [],
      "authorship_tag": "ABX9TyMHJhDncjqCCE58ppPgcEWC",
      "include_colab_link": true
    },
    "kernelspec": {
      "name": "python3",
      "display_name": "Python 3"
    },
    "language_info": {
      "name": "python"
    }
  },
  "cells": [
    {
      "cell_type": "markdown",
      "metadata": {
        "id": "view-in-github",
        "colab_type": "text"
      },
      "source": [
        "<a href=\"https://colab.research.google.com/github/juneshim/baekjoon/blob/main/%EC%BD%94%ED%85%8C%EB%85%B8%ED%8A%B82.ipynb\" target=\"_parent\"><img src=\"https://colab.research.google.com/assets/colab-badge.svg\" alt=\"Open In Colab\"/></a>"
      ]
    },
    {
      "cell_type": "markdown",
      "source": [
        "##스택, 큐, 덱 1"
      ],
      "metadata": {
        "id": "fO3mPIs6AnuK"
      }
    },
    {
      "cell_type": "code",
      "execution_count": null,
      "metadata": {
        "colab": {
          "base_uri": "https://localhost:8080/",
          "height": 543
        },
        "id": "frqhTV_gAO71",
        "outputId": "38f25121-d9b4-4e26-c384-9d95a1e5d308"
      },
      "outputs": [
        {
          "name": "stdout",
          "output_type": "stream",
          "text": [
            "9\n",
            "4\n",
            "1\n",
            "1 3\n",
            "1 5\n",
            "3\n",
            "2\n",
            "2\n",
            "1\n",
            "5\n"
          ]
        },
        {
          "output_type": "error",
          "ename": "KeyboardInterrupt",
          "evalue": "Interrupted by user",
          "traceback": [
            "\u001b[0;31m---------------------------------------------------------------------------\u001b[0m",
            "\u001b[0;31mKeyboardInterrupt\u001b[0m                         Traceback (most recent call last)",
            "\u001b[0;32m/tmp/ipython-input-3581838727.py\u001b[0m in \u001b[0;36m<cell line: 0>\u001b[0;34m()\u001b[0m\n\u001b[1;32m     31\u001b[0m \u001b[0;34m\u001b[0m\u001b[0m\n\u001b[1;32m     32\u001b[0m \u001b[0;32mfor\u001b[0m \u001b[0mi\u001b[0m \u001b[0;32min\u001b[0m \u001b[0mrange\u001b[0m\u001b[0;34m(\u001b[0m\u001b[0mint\u001b[0m\u001b[0;34m(\u001b[0m\u001b[0mn\u001b[0m\u001b[0;34m)\u001b[0m\u001b[0;34m)\u001b[0m \u001b[0;34m:\u001b[0m\u001b[0;34m\u001b[0m\u001b[0;34m\u001b[0m\u001b[0m\n\u001b[0;32m---> 33\u001b[0;31m   \u001b[0marr\u001b[0m \u001b[0;34m=\u001b[0m \u001b[0minput\u001b[0m\u001b[0;34m(\u001b[0m\u001b[0;34m)\u001b[0m\u001b[0;34m.\u001b[0m\u001b[0msplit\u001b[0m\u001b[0;34m(\u001b[0m\u001b[0;34m)\u001b[0m\u001b[0;34m\u001b[0m\u001b[0;34m\u001b[0m\u001b[0m\n\u001b[0m\u001b[1;32m     34\u001b[0m   \u001b[0;32mif\u001b[0m \u001b[0mint\u001b[0m\u001b[0;34m(\u001b[0m\u001b[0marr\u001b[0m\u001b[0;34m[\u001b[0m\u001b[0;36m0\u001b[0m\u001b[0;34m]\u001b[0m\u001b[0;34m)\u001b[0m \u001b[0;34m==\u001b[0m \u001b[0;36m1\u001b[0m \u001b[0;34m:\u001b[0m\u001b[0;34m\u001b[0m\u001b[0;34m\u001b[0m\u001b[0m\n\u001b[1;32m     35\u001b[0m     \u001b[0mfunc_1\u001b[0m\u001b[0;34m(\u001b[0m\u001b[0mstack\u001b[0m\u001b[0;34m,\u001b[0m \u001b[0mint\u001b[0m\u001b[0;34m(\u001b[0m\u001b[0marr\u001b[0m\u001b[0;34m[\u001b[0m\u001b[0;36m0\u001b[0m\u001b[0;34m]\u001b[0m\u001b[0;34m)\u001b[0m\u001b[0;34m)\u001b[0m\u001b[0;34m\u001b[0m\u001b[0;34m\u001b[0m\u001b[0m\n",
            "\u001b[0;32m/usr/local/lib/python3.12/dist-packages/ipykernel/kernelbase.py\u001b[0m in \u001b[0;36mraw_input\u001b[0;34m(self, prompt)\u001b[0m\n\u001b[1;32m   1175\u001b[0m                 \u001b[0;34m\"raw_input was called, but this frontend does not support input requests.\"\u001b[0m\u001b[0;34m\u001b[0m\u001b[0;34m\u001b[0m\u001b[0m\n\u001b[1;32m   1176\u001b[0m             )\n\u001b[0;32m-> 1177\u001b[0;31m         return self._input_request(\n\u001b[0m\u001b[1;32m   1178\u001b[0m             \u001b[0mstr\u001b[0m\u001b[0;34m(\u001b[0m\u001b[0mprompt\u001b[0m\u001b[0;34m)\u001b[0m\u001b[0;34m,\u001b[0m\u001b[0;34m\u001b[0m\u001b[0;34m\u001b[0m\u001b[0m\n\u001b[1;32m   1179\u001b[0m             \u001b[0mself\u001b[0m\u001b[0;34m.\u001b[0m\u001b[0m_parent_ident\u001b[0m\u001b[0;34m[\u001b[0m\u001b[0;34m\"shell\"\u001b[0m\u001b[0;34m]\u001b[0m\u001b[0;34m,\u001b[0m\u001b[0;34m\u001b[0m\u001b[0;34m\u001b[0m\u001b[0m\n",
            "\u001b[0;32m/usr/local/lib/python3.12/dist-packages/ipykernel/kernelbase.py\u001b[0m in \u001b[0;36m_input_request\u001b[0;34m(self, prompt, ident, parent, password)\u001b[0m\n\u001b[1;32m   1217\u001b[0m             \u001b[0;32mexcept\u001b[0m \u001b[0mKeyboardInterrupt\u001b[0m\u001b[0;34m:\u001b[0m\u001b[0;34m\u001b[0m\u001b[0;34m\u001b[0m\u001b[0m\n\u001b[1;32m   1218\u001b[0m                 \u001b[0;31m# re-raise KeyboardInterrupt, to truncate traceback\u001b[0m\u001b[0;34m\u001b[0m\u001b[0;34m\u001b[0m\u001b[0m\n\u001b[0;32m-> 1219\u001b[0;31m                 \u001b[0;32mraise\u001b[0m \u001b[0mKeyboardInterrupt\u001b[0m\u001b[0;34m(\u001b[0m\u001b[0;34m\"Interrupted by user\"\u001b[0m\u001b[0;34m)\u001b[0m \u001b[0;32mfrom\u001b[0m \u001b[0;32mNone\u001b[0m\u001b[0;34m\u001b[0m\u001b[0;34m\u001b[0m\u001b[0m\n\u001b[0m\u001b[1;32m   1220\u001b[0m             \u001b[0;32mexcept\u001b[0m \u001b[0mException\u001b[0m\u001b[0;34m:\u001b[0m\u001b[0;34m\u001b[0m\u001b[0;34m\u001b[0m\u001b[0m\n\u001b[1;32m   1221\u001b[0m                 \u001b[0mself\u001b[0m\u001b[0;34m.\u001b[0m\u001b[0mlog\u001b[0m\u001b[0;34m.\u001b[0m\u001b[0mwarning\u001b[0m\u001b[0;34m(\u001b[0m\u001b[0;34m\"Invalid Message:\"\u001b[0m\u001b[0;34m,\u001b[0m \u001b[0mexc_info\u001b[0m\u001b[0;34m=\u001b[0m\u001b[0;32mTrue\u001b[0m\u001b[0;34m)\u001b[0m\u001b[0;34m\u001b[0m\u001b[0;34m\u001b[0m\u001b[0m\n",
            "\u001b[0;31mKeyboardInterrupt\u001b[0m: Interrupted by user"
          ]
        }
      ],
      "source": [
        "#28278. 정수를 저장하는 스택을 구현한 다음, 입력으로 주어지는 명령을 처리하는 프로그램 💡 시간 초과로 인한 헤더 추가\n",
        "# 명령어 수행 함수\n",
        "import sys\n",
        "input = sys.stdin.readline\n",
        "\n",
        "def func_1(stack, n) :\n",
        "  stack.append(n)\n",
        "\n",
        "def func_2(stack) :\n",
        "  if len(stack) == 0 :\n",
        "    print(-1)\n",
        "  else :\n",
        "    n = stack.pop()\n",
        "    print(n)\n",
        "\n",
        "def func_3(stack) :\n",
        "  print(len(stack))\n",
        "\n",
        "def func_4(stack) :\n",
        "  if len(stack) == 0 :\n",
        "    print(1)\n",
        "  else :\n",
        "    print(0)\n",
        "\n",
        "def func_5(stack) :\n",
        "  if len(stack) == 0 :\n",
        "    print(-1)\n",
        "  else :\n",
        "    print(stack[-1])\n",
        "\n",
        "stack = []\n",
        "n = input()\n",
        "\n",
        "for i in range(int(n)) :\n",
        "  arr = input().split()\n",
        "  if int(arr[0]) == 1 :\n",
        "    func_1(stack, int(arr[1]))\n",
        "  elif int(arr[0]) == 2 :\n",
        "    func_2(stack)\n",
        "  elif int(arr[0]) == 3 :\n",
        "    func_3(stack)\n",
        "  elif int(arr[0]) == 4 :\n",
        "    func_4(stack)\n",
        "  elif int(arr[0]) == 5 :\n",
        "    func_5(stack)"
      ]
    },
    {
      "cell_type": "code",
      "source": [
        "#10773. 정수를 저장하는 스택을 구현한 다음, 입력으로 주어지는 명령을 처리하는 프로그램\n",
        "stack = []\n",
        "n = int(input())\n",
        "\n",
        "for i in range(n) :\n",
        "  n = int(input())\n",
        "  if n == 0 :\n",
        "    stack.pop()\n",
        "  else :\n",
        "    stack.append(n)\n",
        "\n",
        "print(sum(stack))"
      ],
      "metadata": {
        "colab": {
          "base_uri": "https://localhost:8080/"
        },
        "id": "brWKbD7_Hiru",
        "outputId": "c9caf28e-ce97-433f-cca5-b3353f2bc4b9"
      },
      "execution_count": null,
      "outputs": [
        {
          "output_type": "stream",
          "name": "stdout",
          "text": [
            "4\n",
            "3\n",
            "0\n",
            "4\n",
            "0\n",
            "0\n"
          ]
        }
      ]
    },
    {
      "cell_type": "code",
      "source": [
        "#9012. 입력으로 주어진 괄호 문자열이 VPS 인지 아닌지를 판단해서 그 결과를 YES 와 NO 출력\n",
        "def is_VPS(arr) :\n",
        "  x = 0\n",
        "  y = 0\n",
        "  z = 0\n",
        "  if arr[0] == \")\" or arr[-1] == \"(\" :\n",
        "    return 0\n",
        "\n",
        "  for c in arr :\n",
        "    if c == \"(\" :\n",
        "      x += 1\n",
        "      z += 1\n",
        "    elif c == \")\" :\n",
        "      y += 1\n",
        "      z -= 1\n",
        "      if z < 0 :\n",
        "        return 0\n",
        "  if x == y :\n",
        "    return 1\n",
        "  else :\n",
        "    return 0\n",
        "\n",
        "n = int(input())\n",
        "for i in range(n) :\n",
        "  arr = list(input())\n",
        "  if is_VPS(arr) == 1 :\n",
        "    print(\"YES\")\n",
        "  else :\n",
        "    print(\"NO\")"
      ],
      "metadata": {
        "colab": {
          "base_uri": "https://localhost:8080/"
        },
        "id": "vANLxPDXM9Pw",
        "outputId": "70182f0b-25a7-45d4-be38-efaad482157f"
      },
      "execution_count": null,
      "outputs": [
        {
          "output_type": "stream",
          "name": "stdout",
          "text": [
            "6\n",
            "(())())\n",
            "NO\n",
            "(()())((()))\n",
            "YES\n",
            "(((()())()\n",
            "NO\n",
            "((()()(()))(((())))()\n",
            "NO\n",
            "()()()()(()()())()\n",
            "YES\n",
            "(()((())()(\n",
            "NO\n"
          ]
        }
      ]
    },
    {
      "cell_type": "code",
      "source": [
        "#4949. 각 줄마다 해당 문자열이 균형을 이루고 있으면 \"yes\"를, 아니면 \"no\"를 출력 💡 유명한 쉬운 방법 있는 자료구조 문제. 다시 제대로 풀어보다\n",
        "# 1. 괄호들만 추출\n",
        "# 2. 대, 소, 괄호 조건 각각 확인 1\n",
        "# 3. 온전한 괄호들로 분리\n",
        "# 4. 대, 소, 괄호 조건 각각 확인 2\n",
        "def only_Parentheses(arr) :\n",
        "  stack = []\n",
        "  for c in arr :\n",
        "    if c == \"(\" :\n",
        "      stack.append(\"(\")\n",
        "    elif c == \")\" :\n",
        "      stack.append(\")\")\n",
        "    elif c == \"[\" :\n",
        "      stack.append(\"[\")\n",
        "    elif c == \"]\" :\n",
        "      stack.append(\"]\")\n",
        "  return stack\n",
        "\n",
        "def is_VPS(arr) :\n",
        "  x = 0\n",
        "  y = 0\n",
        "  z = 0\n",
        "  if arr[0] == \")\" or arr[-1] == \"(\" :\n",
        "    return 0\n",
        "\n",
        "  for c in arr :\n",
        "    if c == \"(\" :\n",
        "      x += 1\n",
        "      z += 1\n",
        "    elif c == \")\" :\n",
        "      y += 1\n",
        "      z -= 1\n",
        "      if z < 0 :\n",
        "        return 0\n",
        "  if x == y :\n",
        "    return 1\n",
        "  else :\n",
        "    return 0\n",
        "\n",
        "def is_VPS2(arr) :\n",
        "  x = 0\n",
        "  y = 0\n",
        "  z = 0\n",
        "  if arr[0] == \"]\" or arr[-1] == \"[\" :\n",
        "    return 0\n",
        "\n",
        "  for c in arr :\n",
        "    if c == \"[\" :\n",
        "      x += 1\n",
        "      z += 1\n",
        "    elif c == \"]\" :\n",
        "      y += 1\n",
        "      z -= 1\n",
        "      if z < 0 :\n",
        "        return 0\n",
        "  if x == y :\n",
        "    return 1\n",
        "  else :\n",
        "    return 0\n",
        "\n",
        "def is_balence(arr) :\n",
        "  stack = []\n",
        "  arr_t = arr.copy()\n",
        "  for c in arr :\n",
        "    x = 0\n",
        "    arr_t.pop(0)\n",
        "    if c == \"(\" :\n",
        "      x += 1\n",
        "      stack.append(\"(\")\n",
        "      for d in arr_t :\n",
        "        if d == \"(\" :\n",
        "          x += 1\n",
        "          stack.append(d)\n",
        "        elif d == \")\" :\n",
        "          x -= 1\n",
        "          stack.append(d)\n",
        "          if x == 0 :\n",
        "            break\n",
        "        else :\n",
        "          stack.append(d)\n",
        "    elif c == \"[\" :\n",
        "      x += 1\n",
        "      stack.append(\"[\")\n",
        "      for d in arr_t :\n",
        "        if d == \"[\" :\n",
        "          x += 1\n",
        "          stack.append(d)\n",
        "        elif d == \"]\" :\n",
        "          x -= 1\n",
        "          stack.append(d)\n",
        "          if x == 0 :\n",
        "            break\n",
        "        else :\n",
        "          stack.append(d)\n",
        "    else :\n",
        "      continue\n",
        "    if len(stack) == 0 :\n",
        "      return 1\n",
        "    if is_VPS(stack) == 0 or is_VPS2(stack) == 0 :\n",
        "      return 0\n",
        "    stack = []\n",
        "  return 1\n",
        "\n",
        "\n",
        "def main(arr) :\n",
        "  arr = only_Parentheses(arr)\n",
        "  if len(arr) == 0 :\n",
        "    return 1\n",
        "  if is_VPS(arr) == 0 or is_VPS2(arr) == 0 :\n",
        "    return 0\n",
        "  if is_balence(arr) == 0 :\n",
        "    return 0\n",
        "  return 1\n",
        "\n",
        "\n",
        "arr = list(input())\n",
        "stack = []\n",
        "while arr[0] != \".\" :\n",
        "  if main(arr) == 1 :\n",
        "    stack.append(\"yes\")\n",
        "    # print(\"yes\")\n",
        "  else :\n",
        "    stack.append(\"no\")\n",
        "    # print(\"no\")\n",
        "  arr = list(input())\n",
        "for s in stack :\n",
        "  print(s)"
      ],
      "metadata": {
        "colab": {
          "base_uri": "https://localhost:8080/"
        },
        "id": "3C-BsdXWQo2w",
        "outputId": "0237b701-b9be-4f09-fb78-0a9b9ba25f87"
      },
      "execution_count": null,
      "outputs": [
        {
          "output_type": "stream",
          "name": "stdout",
          "text": [
            "So when I die (the [first] I will see in (heaven) is a score list).\n",
            "[ first in ] ( first out ).\n",
            "Half Moon tonight (At least it is better than no Moon at all].\n",
            "A rope may form )( a trail in a maze.\n",
            "Help( I[m being held prisoner in a fortune cookie factory)].\n",
            "([ (([( [ ] ) ( ) (( ))] )) ]).\n",
            " .\n",
            ".\n",
            "yes\n",
            "yes\n",
            "no\n",
            "no\n",
            "no\n",
            "yes\n",
            "yes\n"
          ]
        }
      ]
    },
    {
      "cell_type": "code",
      "source": [
        "#4949. 정석대로\n",
        "#괄호 끼리 세트로 정의하고, 세트가 나왔을 때 제거하는거. 그래서 한바퀴 돌았을 때 스택이 비어 있어야 균형 잡힌거다.\n",
        "#그리고 input().strip()은 양쪽 공백을 제거하니 유의해야 한다\n",
        "#pairs = {'(': ')', '[': ']'} key :value (딕셔너리)\n",
        "\n",
        "def is_balence(arr) :\n",
        "  stack = []\n",
        "  pairs = {\n",
        "    '(':  ')',\n",
        "    '[':  ']'\n",
        "  }\n",
        "  for c in arr :\n",
        "    if c in pairs : # 여는 기호\n",
        "      stack.append(c)\n",
        "    elif c in pairs.values() : # 닫는 기호\n",
        "      if len(stack) == 0: # 비어있으면 false\n",
        "        return 0\n",
        "      if pairs[stack[-1]] == c : # 매칭되면 pop\n",
        "        stack.pop()\n",
        "      else :\n",
        "        return 0 # 매칭 안되면 false\n",
        "    else :\n",
        "      continue\n",
        "  if len(stack) == 0 :\n",
        "    return 1\n",
        "  return 0\n",
        "\n",
        "\n",
        "\n",
        "while True :\n",
        "  line = input()\n",
        "  if line == \".\" :\n",
        "    break\n",
        "  if is_balence(list(line)) == 1 :\n",
        "    print(\"yes\")\n",
        "  else :\n",
        "    print(\"no\")\n"
      ],
      "metadata": {
        "colab": {
          "base_uri": "https://localhost:8080/"
        },
        "id": "N4T3gR3jhoeL",
        "outputId": "e23c8126-17ae-49c9-baa1-a5df23988bc8"
      },
      "execution_count": null,
      "outputs": [
        {
          "name": "stdout",
          "output_type": "stream",
          "text": [
            "So when I die (the [first] I will see in (heaven) is a score list).\n",
            "yes\n",
            "[ first in ] ( first out ).\n",
            "yes\n",
            "Half Moon tonight (At least it is better than no Moon at all].\n",
            "no\n",
            "A rope may form )( a trail in a maze.\n",
            "no\n",
            "Help( I[m being held prisoner in a fortune cookie factory)].\n",
            "no\n",
            "([ (([( [ ] ) ( ) (( ))] )) ]).\n",
            "yes\n",
            " .\n",
            "yes\n",
            ".\n"
          ]
        }
      ]
    },
    {
      "cell_type": "code",
      "source": [
        "#12789. 간식드리미\n",
        "# int 형으로 저장하는 코드 arr = list(map(int, input().split()))\n",
        "# 1. arr(0), temp_arr(-1)이 1인지 확인\n",
        "# 1이 있는 곳이 arr이면 arr.pop(0), temp_arr이면 temp_arr.pop(-1)\n",
        "# 1이 있는 곳이 없으면 temp_arr.append(arr.pop(0))\n",
        "# arr(0), temp_arr(-1)이 2인지 확인\n",
        "# 2 아니면 teamp_arr로, 2이면 arr로 .... 쭉쭉\n",
        "#\n",
        "def is_able(length, arr):\n",
        "  temp_arr = []\n",
        "  for i in range(length) :  #오름차순 순서대로 (i+1)\n",
        "    while True :\n",
        "      if len(arr) != 0 and arr[0] == i+1  :\n",
        "        n = arr.pop(0)\n",
        "        # print(n)\n",
        "        break\n",
        "      elif len(temp_arr) != 0 and temp_arr[-1] == i+1  : #temp_arr에 있는 얘 차례면 temp 줄에서 빼기\n",
        "        n = temp_arr.pop()\n",
        "        # print(n)\n",
        "        break\n",
        "      else :\n",
        "        if len(arr) == 0 and temp_arr[-1] != i+1 :\n",
        "          return 0\n",
        "        temp_arr.append(arr.pop(0))\n",
        "        # print(temp_arr)\n",
        "  return 1\n",
        "\n",
        "length = int(input())\n",
        "arr = list(map(int, input().split()))\n",
        "if is_able(length, arr) == 1 :\n",
        "  print(\"Nice\")\n",
        "else :\n",
        "  print(\"Sad\")"
      ],
      "metadata": {
        "colab": {
          "base_uri": "https://localhost:8080/"
        },
        "id": "UEibcbUVv5Zb",
        "outputId": "e487399c-42ab-4b39-cf41-8ac0ac961642"
      },
      "execution_count": null,
      "outputs": [
        {
          "output_type": "stream",
          "name": "stdout",
          "text": [
            "5\n",
            "5 4 1 3 2\n",
            "Nice\n"
          ]
        }
      ]
    },
    {
      "cell_type": "code",
      "source": [
        "#18258. 큐 제너레이터\n",
        "# case 쓰려면 match 사용\n",
        "# pop의 시간복잡도!!💡💡💡 (pop은 시간복잡도가 높은 연산이기 때문에 시간 초과가 뜬다면, 사용(x))\n",
        "# 참고로 슬라이싱도 마찬가지로 시간 복잡도가 상당하다\n",
        "# 전역 변수 사용하려면 무조건 함수에 적어줘야 한다! global start_index 💡💡💡💡\n",
        "# 그리고 시간 초과 되면 입출력 관련 선언문 적어주기💡💡\n",
        "\n",
        "import sys\n",
        "input = sys.stdin.readline\n",
        "\n",
        "def stack_func(stack, func_s, n=0):\n",
        "  global start_index\n",
        "  match func_s :\n",
        "    case \"push\" : #push X: 정수 X를 큐에 넣는 연산이다.\n",
        "      stack.append(n)\n",
        "    case \"pop\" : #pop: 큐에서 가장 앞에 있는 정수를 빼고, 그 수를 출력한다. 만약 큐에 들어있는 정수가 없는 경우에는 -1을 출력한다.\n",
        "      if len(stack) == start_index :\n",
        "        print(-1)\n",
        "      else :\n",
        "        n = stack[start_index]\n",
        "        print(n)\n",
        "        start_index += 1\n",
        "    case \"size\" : # size: 큐에 들어있는 정수의 개수를 출력한다.\n",
        "      print(len(stack)-start_index)\n",
        "    case \"empty\" : # empty: 큐가 비어있으면 1, 아니면 0을 출력한다.\n",
        "      if len(stack)-start_index == 0 :\n",
        "        print(1)\n",
        "      else :\n",
        "        print(0)\n",
        "    case \"front\" : # front: 큐의 가장 앞에 있는 정수를 출력한다. 만약 큐에 들어있는 정수가 없는 경우에는 -1을 출력한다.\n",
        "      if len(stack)-start_index == 0 :\n",
        "        print(-1)\n",
        "      else :\n",
        "        print(stack[start_index])\n",
        "    case \"back\" : # back: 큐의 가장 뒤에 있는 정수를 출력한다. 만약 큐에 들어있는 정수가 없는 경우에는 -1을 출력한다.\n",
        "      if len(stack)-start_index == 0 :\n",
        "        print(-1)\n",
        "      else :\n",
        "        print(stack[-1])\n",
        "\n",
        "n = int(input())\n",
        "stack = []\n",
        "start_index = 0\n",
        "for _ in range(n) :\n",
        "  arr = input().split()\n",
        "  if len(arr) == 2 :\n",
        "    stack_func(stack, arr[0], int(arr[1]))\n",
        "  else:\n",
        "    stack_func(stack, arr[0])"
      ],
      "metadata": {
        "id": "RNFEsvKYrNni",
        "colab": {
          "base_uri": "https://localhost:8080/"
        },
        "outputId": "4e0f43c1-408f-4935-ed3f-9e3917fa42c3"
      },
      "execution_count": null,
      "outputs": [
        {
          "output_type": "stream",
          "name": "stdout",
          "text": [
            "15\n",
            "push 1\n",
            "push 2\n",
            "front\n",
            "1\n",
            "back\n",
            "2\n",
            "size\n",
            "2\n",
            "empty\n",
            "0\n",
            "pop\n",
            "1\n",
            "pop\n",
            "2\n",
            "pop\n",
            "-1\n",
            "size\n",
            "0\n",
            "empty\n",
            "1\n",
            "pop\n",
            "-1\n",
            "push 3\n",
            "empty\n",
            "0\n",
            "front\n",
            "3\n"
          ]
        }
      ]
    },
    {
      "cell_type": "code",
      "source": [
        "#2164. 스텍 관리, 메모리 효율적으로\n",
        "def card_func(n) :\n",
        "  #1~n 스텍 구성.\n",
        "  #1이 가장 위임.\n",
        "  stack = list(range(1, n+1))\n",
        "  start_index = 0\n",
        "  for _ in range(n-1):\n",
        "    start_index += 1\n",
        "    n = stack[start_index]\n",
        "    start_index += 1\n",
        "    stack.append(n)\n",
        "  return stack[start_index]\n",
        "\n",
        "\n",
        "n = int(input())\n",
        "print(card_func(n))"
      ],
      "metadata": {
        "colab": {
          "base_uri": "https://localhost:8080/"
        },
        "id": "TI24l2F9gyay",
        "outputId": "1143ec86-0c21-436f-ab99-2f96da8bc062"
      },
      "execution_count": null,
      "outputs": [
        {
          "output_type": "stream",
          "name": "stdout",
          "text": [
            "4\n",
            "4\n"
          ]
        }
      ]
    },
    {
      "cell_type": "code",
      "source": [
        "#11866. 요세푸스 문제\n",
        "# final_string = \"\".join(string) << 이게 list 말고 string 으로 출력하는 방법\n",
        "def Josephus_prob(n, k) :\n",
        "  i = 0 # 인덱스\n",
        "  stack = list(map(int, range(1, n+1)))\n",
        "  ans_arr = []\n",
        "  for _ in range(n) :\n",
        "    for a in range(k-1) :\n",
        "      stack.append(stack[i+a])\n",
        "    i += k-1\n",
        "    ans_arr.append(stack[i])\n",
        "    i += 1\n",
        "  return ans_arr\n",
        "\n",
        "\n",
        "arr = input().split()\n",
        "ans_arr = Josephus_prob(int(arr[0]), int(arr[1]))\n",
        "string = list(map(str, str(ans_arr)))\n",
        "string[0] = \"<\"\n",
        "string[-1] = \">\"\n",
        "final_string = \"\".join(string)\n",
        "print(final_string)"
      ],
      "metadata": {
        "colab": {
          "base_uri": "https://localhost:8080/"
        },
        "id": "lSui39UY5H1x",
        "outputId": "b939f8e6-1b2f-44ca-b814-ebe9af805295"
      },
      "execution_count": null,
      "outputs": [
        {
          "output_type": "stream",
          "name": "stdout",
          "text": [
            "7 3\n",
            "<3, 6, 2, 7, 5, 1, 4>\n"
          ]
        }
      ]
    },
    {
      "cell_type": "code",
      "source": [
        "#28279. 스텍 관련 명령을 처리하는 프로그램\n",
        "### from collections import deque 사용하기!!💡💡💡 스텍 관련 시간복잡도 빠름 근데 여기에는 적용 안됨..ㅎ -> 아래에 시간 초과 되지 않은 코드...\n",
        "#파이썬의 리스트는 크기가 꽉 찬 상태에서 append를 하면, 더 큰 새 리스트를 위한 메모리를 할당 후 기존의 100만 개 원소를 전부 새 리스트로 복사한 뒤, 마지막에 새 원소를 추가하기에 주의\n",
        "## 사실 pop()는 느리지 않음. pop(0)이 느린것임! 그러니 popleft() 사용하면 좋음.\n",
        "## c언어에서는 쉽게 구현할 수 있는데...... 삽입을 뒤가 아닌 위치에 하려면 매우 어려워짐. 그러니 파이썬에는 힘듬\n",
        "# 1 ≤ N ≤ 1,000,000 이니 stack을 처음부터 1,000,000에 위치하면 될듯\n",
        "#1 ≤ X ≤ 100,000\n",
        "from collections import deque\n",
        "def stack_func(n, N=0) :\n",
        "  global stack\n",
        "  global start_index #stack의 시작 인덱스\n",
        "  global stack_length\n",
        "  match n :\n",
        "    case 1 : #1 X: 정수 X를 덱의 앞에 넣는다. (1 ≤ X ≤ 100,000)\n",
        "      stack[start_index-1] = N\n",
        "      start_index -= 1\n",
        "      stack_length += 1\n",
        "    case 2 : #X: 정수 X를 덱의 뒤에 넣는다. (1 ≤ X ≤ 100,000)\n",
        "      stack.append(N)\n",
        "      stack_length += 1\n",
        "    case 3 : #덱에 정수가 있다면 맨 앞의 정수를 빼고 출력한다. 없다면 -1을 대신 출력한다.\n",
        "      if stack_length > 0 :\n",
        "        print(stack[start_index])\n",
        "        stack[start_index] = 0\n",
        "        start_index += 1\n",
        "        stack_length -= 1\n",
        "      else :\n",
        "        print(-1)\n",
        "    case 4 : #덱에 정수가 있다면 맨 뒤의 정수를 빼고 출력한다. 없다면 -1을 대신 출력한다.\n",
        "      if stack_length > 0 :\n",
        "        p = stack.pop()\n",
        "        print(p)\n",
        "        stack[start_index] = 0\n",
        "        stack_length -= 1\n",
        "      else :\n",
        "        print(-1)\n",
        "    case 5 : # 덱에 들어있는 정수의 개수를 출력한다.\n",
        "      print(stack_length)\n",
        "    case 6 : #덱이 비어있으면 1, 아니면 0을 출력한다.\n",
        "      if stack_length > 0 :\n",
        "        print(0)\n",
        "      else :\n",
        "        print(1)\n",
        "    case 7 : #덱에 정수가 있다면 맨 앞의 정수를 출력한다. 없다면 -1을 대신 출력한다.\n",
        "      if stack_length > 0 :\n",
        "        print(stack[start_index])\n",
        "      else :\n",
        "        print(-1)\n",
        "    case 8 : #덱에 정수가 있다면 맨 뒤의 정수를 출력한다. 없다면 -1을 대신 출력한다.\n",
        "      if stack_length > 0 :\n",
        "        print(stack[-1])\n",
        "      else :\n",
        "        print(-1)\n",
        "\n",
        "num = int(input())\n",
        "start_index = 1000000\n",
        "stack = [0] * start_index\n",
        "stack_length = 0\n",
        "\n",
        "is_flip = 0\n",
        "for _ in range(num) :\n",
        "  arr = list(map(int, input().split()))\n",
        "  if len(arr)>1 :\n",
        "    stack_func(arr[0], arr[1])\n",
        "  else :\n",
        "    stack_func(arr[0])"
      ],
      "metadata": {
        "colab": {
          "base_uri": "https://localhost:8080/"
        },
        "id": "0001ZD45WbUw",
        "outputId": "3c860e7c-620f-45ec-93b9-28d60f69b8b2"
      },
      "execution_count": null,
      "outputs": [
        {
          "output_type": "stream",
          "name": "stdout",
          "text": [
            "11\n",
            "6\n",
            "1\n",
            "1 3\n",
            "1 8\n",
            "7\n",
            "8\n",
            "8\n",
            "3\n",
            "3\n",
            "8\n",
            "2 5\n",
            "1 2\n",
            "5\n",
            "3\n",
            "4\n",
            "5\n",
            "4\n",
            "3\n"
          ]
        }
      ]
    },
    {
      "cell_type": "code",
      "source": [
        "import sys\n",
        "from collections import deque\n",
        "\n",
        "# 입력을 빠르게 받기 위한 설정\n",
        "input = sys.stdin.readline\n",
        "\n",
        "num = int(input())\n",
        "dq = deque() # 데크(deque) 객체 생성\n",
        "\n",
        "for _ in range(num):\n",
        "    command = input().split()\n",
        "    n = int(command[0])\n",
        "\n",
        "    if n == 1: # 1 X: 정수 X를 덱의 앞에 넣는다.\n",
        "        dq.appendleft(int(command[1]))\n",
        "    elif n == 2: # 2 X: 정수 X를 덱의 뒤에 넣는다.\n",
        "        dq.append(int(command[1]))\n",
        "    elif n == 3: # 맨 앞의 정수를 빼고 출력\n",
        "        print(dq.popleft() if dq else -1)\n",
        "    elif n == 4: # 맨 뒤의 정수를 빼고 출력\n",
        "        print(dq.pop() if dq else -1)\n",
        "    elif n == 5: # 정수의 개수 출력\n",
        "        print(len(dq))\n",
        "    elif n == 6: # 비어있으면 1, 아니면 0\n",
        "        print(0 if dq else 1)\n",
        "    elif n == 7: # 맨 앞의 정수 출력\n",
        "        print(dq[0] if dq else -1)\n",
        "    elif n == 8: # 맨 뒤의 정수 출력\n",
        "        print(dq[-1] if dq else -1)"
      ],
      "metadata": {
        "id": "0M3F4HiyjgjB"
      },
      "execution_count": null,
      "outputs": []
    },
    {
      "cell_type": "code",
      "source": [
        "#2346.풍선 터트리기\n",
        "## print(*ans_arr)을 해야 객체 없이 출력 가능!\n",
        "import sys\n",
        "from collections import deque\n",
        "def pop_func(command):\n",
        "  #명령대로 움직인 후 풍선 pop하는 명령어\n",
        "  global dq\n",
        "  global ans_arr\n",
        "  global ballon_arr\n",
        "  if command > 0 :\n",
        "    for _ in range(command-1) :\n",
        "      n = dq.popleft()\n",
        "      k = ballon_arr.popleft()\n",
        "      dq.append(n)\n",
        "      ballon_arr.append(k)\n",
        "    x = dq.popleft()\n",
        "    y = ballon_arr.popleft()\n",
        "    ans_arr.append(y)\n",
        "    return x\n",
        "  if command < 0 :\n",
        "    for _ in range(-command-1) :\n",
        "      n = dq.pop()\n",
        "      k = ballon_arr.pop()\n",
        "      dq.appendleft(n)\n",
        "      ballon_arr.appendleft(k)\n",
        "    x = dq.pop()\n",
        "    y = ballon_arr.pop()\n",
        "    ans_arr.append(y)\n",
        "    return x\n",
        "\n",
        "n = int(input())\n",
        "arr = input().split()\n",
        "ballon_arr = deque(range(1, n+1))\n",
        "ans_arr = deque()\n",
        "dq = deque(map(int, arr))  # dq는 풍선 안 명령어      ###💡💡dq는 list가 아닌 deque 사용!\n",
        "command = dq.popleft()\n",
        "ballon_num = ballon_arr.popleft()\n",
        "ans_arr.append(ballon_num)\n",
        "for _ in range(n-1) :\n",
        "  command = pop_func(command)\n",
        "# print(ans_arr)\n",
        "print(*ans_arr)"
      ],
      "metadata": {
        "id": "cA3NPCI2h1At",
        "colab": {
          "base_uri": "https://localhost:8080/"
        },
        "outputId": "341d8f17-dd06-47eb-ac12-42d92827d2a6"
      },
      "execution_count": null,
      "outputs": [
        {
          "output_type": "stream",
          "name": "stdout",
          "text": [
            "5\n",
            "3 2 1 -3 -1\n",
            "1 4 5 3 2\n"
          ]
        }
      ]
    },
    {
      "cell_type": "code",
      "source": [
        "#24511. queue 와 stack의 차이\n",
        "# 왜 시간 초과 되나 했는데, stack의 경우 전혀 신경쓰지 않아도 되기에, 오히려 stack을 고려하면 불필요한 시간을 쓴다.\n",
        "import sys\n",
        "from collections import deque\n",
        "def stack_que_func(n):\n",
        "  #삽입할 숫자를 받아 B_dq에 A_dq 규칙대로 뱉어내는 숫자 반환하는 함수\n",
        "  global A_dq\n",
        "  global B_dq\n",
        "  global N\n",
        "  temp = n\n",
        "  temp2 = 0\n",
        "  for i in range(N) :\n",
        "    match A_dq[i] :\n",
        "      case 0 :\n",
        "        # que이면 그자리 빼고 넣기\n",
        "        temp2 = B_dq[i]\n",
        "        B_dq[i] = temp\n",
        "        temp = temp2\n",
        "      case 1 :\n",
        "        # stack이면 그자리 유지\n",
        "        continue\n",
        "  return temp\n",
        "N = int(input())\n",
        "A_dq = deque(map(int, input().split()))\n",
        "B_dq = deque(map(int, input().split()))\n",
        "k = int(input())\n",
        "C_dq = deque(map(int, input().split()))\n",
        "ans_dq = deque()\n",
        "# print(n, A_dq, B_dq, k, C_dq)\n",
        "for i in C_dq :\n",
        "  ans_dq.append(stack_que_func(i))\n",
        "print(*ans_dq)\n"
      ],
      "metadata": {
        "colab": {
          "base_uri": "https://localhost:8080/"
        },
        "id": "mx-h4TFbmPyt",
        "outputId": "c20f9bca-9b7e-4cc6-f168-ed85f90bd6ed"
      },
      "execution_count": null,
      "outputs": [
        {
          "output_type": "stream",
          "name": "stdout",
          "text": [
            "4\n",
            "0 1 1 0\n",
            "1 2 3 4\n",
            "3 \n",
            "2 4 7\n",
            "4 1 2\n"
          ]
        }
      ]
    },
    {
      "cell_type": "code",
      "source": [
        "#24511. 제대로\n",
        "import sys\n",
        "from collections import deque\n",
        "\n",
        "N = int(input())\n",
        "A_dq = deque(map(int, input().split()))\n",
        "B_dq = deque(map(int, input().split()))\n",
        "k = int(input())\n",
        "C_dq = deque(map(int, input().split()))\n",
        "hold_dq = deque()\n",
        "ans_dq = deque()\n",
        "\n",
        "for i in range(N) :\n",
        "    match A_dq[i] :\n",
        "      case 0 :\n",
        "        # que이면 저장\n",
        "        hold_dq.append(B_dq[i])\n",
        "      case 1 :\n",
        "        # stack이면 x\n",
        "        continue\n",
        "\n",
        "for i in C_dq :\n",
        "  hold_dq.appendleft(i)\n",
        "  ans_dq.append(hold_dq.pop())\n",
        "print(*ans_dq)"
      ],
      "metadata": {
        "colab": {
          "base_uri": "https://localhost:8080/"
        },
        "id": "NS911vbRZEiZ",
        "outputId": "618af68a-2b7a-4093-da9e-9a42b0bf393c"
      },
      "execution_count": null,
      "outputs": [
        {
          "output_type": "stream",
          "name": "stdout",
          "text": [
            "4\n",
            "0 1 1 0\n",
            "1 2 3 4\n",
            "3\n",
            "2 4 7\n",
            "4 1 2\n"
          ]
        }
      ]
    }
  ]
}