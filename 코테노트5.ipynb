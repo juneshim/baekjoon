{
  "nbformat": 4,
  "nbformat_minor": 0,
  "metadata": {
    "colab": {
      "provenance": [],
      "authorship_tag": "ABX9TyPalcwWCdNZt4ObM/7OXO0T",
      "include_colab_link": true
    },
    "kernelspec": {
      "name": "python3",
      "display_name": "Python 3"
    },
    "language_info": {
      "name": "python"
    }
  },
  "cells": [
    {
      "cell_type": "markdown",
      "metadata": {
        "id": "view-in-github",
        "colab_type": "text"
      },
      "source": [
        "<a href=\"https://colab.research.google.com/github/juneshim/baekjoon/blob/main/%EC%BD%94%ED%85%8C%EB%85%B8%ED%8A%B85.ipynb\" target=\"_parent\"><img src=\"https://colab.research.google.com/assets/colab-badge.svg\" alt=\"Open In Colab\"/></a>"
      ]
    },
    {
      "cell_type": "markdown",
      "source": [
        "#랜덤 마라톤 71"
      ],
      "metadata": {
        "id": "IdRiXg7yuZY2"
      }
    },
    {
      "cell_type": "code",
      "execution_count": null,
      "metadata": {
        "colab": {
          "base_uri": "https://localhost:8080/"
        },
        "id": "0YUiHr5wuXCz",
        "outputId": "717e1486-c0c4-4d4e-ba15-ddf6c989f05b"
      },
      "outputs": [
        {
          "output_type": "stream",
          "name": "stdout",
          "text": [
            "0 1 0 1\n",
            "B\n",
            "1 1 1 0\n",
            "A\n",
            "0 0 1 1\n",
            "B\n"
          ]
        }
      ],
      "source": [
        "#2490. 도개걸윷모 판별기\n",
        "for _ in range(3):\n",
        "  arr = list(map(int, input().split()))\n",
        "  b = 0\n",
        "  for i in range(4):\n",
        "    if arr[i] == 0 :\n",
        "      b += 1\n",
        "  if b ==1 :\n",
        "    print(\"A\")\n",
        "  elif b ==2 :\n",
        "    print(\"B\")\n",
        "  elif b ==3 :\n",
        "    print(\"C\")\n",
        "  elif b==4 :\n",
        "    print(\"D\")\n",
        "  elif b ==0 :\n",
        "    print(\"E\")\n"
      ]
    },
    {
      "cell_type": "code",
      "source": [
        "#29863."
      ],
      "metadata": {
        "id": "aAKVuIRgxzcM"
      },
      "execution_count": null,
      "outputs": []
    }
  ]
}