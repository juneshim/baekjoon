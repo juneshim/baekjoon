{
  "nbformat": 4,
  "nbformat_minor": 0,
  "metadata": {
    "colab": {
      "provenance": [],
      "authorship_tag": "ABX9TyOpDJ8C404r6ynLM3rkcJJH",
      "include_colab_link": true
    },
    "kernelspec": {
      "name": "python3",
      "display_name": "Python 3"
    },
    "language_info": {
      "name": "python"
    }
  },
  "cells": [
    {
      "cell_type": "markdown",
      "metadata": {
        "id": "view-in-github",
        "colab_type": "text"
      },
      "source": [
        "<a href=\"https://colab.research.google.com/github/juneshim/baekjoon/blob/main/%EC%BD%94%ED%85%8C%EB%85%B8%ED%8A%B86.ipynb\" target=\"_parent\"><img src=\"https://colab.research.google.com/assets/colab-badge.svg\" alt=\"Open In Colab\"/></a>"
      ]
    },
    {
      "cell_type": "markdown",
      "source": [
        "#백트래킹"
      ],
      "metadata": {
        "id": "lyMywBd-NJuy"
      }
    },
    {
      "cell_type": "code",
      "execution_count": null,
      "metadata": {
        "id": "SyE5qV7MNIHX",
        "colab": {
          "base_uri": "https://localhost:8080/"
        },
        "outputId": "3ccf7d1a-3e47-472b-e0d1-3c6b65e5d024"
      },
      "outputs": [
        {
          "output_type": "stream",
          "name": "stdout",
          "text": [
            "4 4\n",
            "1 2 3 4\n",
            "1 2 4 3\n",
            "1 3 2 4\n",
            "1 3 4 2\n",
            "1 4 2 3\n",
            "1 4 3 2\n",
            "2 1 3 4\n",
            "2 1 4 3\n",
            "2 3 1 4\n",
            "2 3 4 1\n",
            "2 4 1 3\n",
            "2 4 3 1\n",
            "3 1 2 4\n",
            "3 1 4 2\n",
            "3 2 1 4\n",
            "3 2 4 1\n",
            "3 4 1 2\n",
            "3 4 2 1\n",
            "4 1 2 3\n",
            "4 1 3 2\n",
            "4 2 1 3\n",
            "4 2 3 1\n",
            "4 3 1 2\n",
            "4 3 2 1\n"
          ]
        }
      ],
      "source": [
        "#15649. 1부터 N까지 자연수 중에서 중복 없이 M개로 구성된 순서쌍을 모두 출력하는 함수\n",
        "#💡💡 백트래킹 기초 문제, 까먹으니 복습하기\n",
        "def back() :\n",
        "  arr = list(range(1, N+1))\n",
        "  if len(ans) == M :\n",
        "    print(*ans)\n",
        "    return\n",
        "  for i in range(len(arr)) :\n",
        "    if arr[i] not in ans :\n",
        "      ans.append(arr[i])\n",
        "      back()\n",
        "      ans.pop()\n",
        "\n",
        "N, M = map(int, input().split())\n",
        "ans = []\n",
        "back()"
      ]
    },
    {
      "cell_type": "code",
      "source": [
        "#15650. 조건이 추가된 N M 백트래킹\n",
        "def back() :\n",
        "  arr = list(range(1, N+1))\n",
        "  global check\n",
        "  if len(ans) == M :\n",
        "    print(*ans)\n",
        "    return\n",
        "  if check < M-len(ans) :\n",
        "    return\n",
        "  for i in range(len(arr)) :\n",
        "    check = N-i\n",
        "    if arr[i] not in ans and len(ans) == 0 :\n",
        "      ans.append(arr[i])\n",
        "      check -= 1\n",
        "      back()\n",
        "      ans.pop()\n",
        "    elif arr[i] not in ans and arr[i] > ans[-1] :\n",
        "      ans.append(arr[i])\n",
        "      check -= 1\n",
        "      back()\n",
        "      ans.pop()\n",
        "\n",
        "N, M = map(int, input().split())\n",
        "ans = []\n",
        "check = N\n",
        "back()"
      ],
      "metadata": {
        "id": "-52oCZO03DHw",
        "colab": {
          "base_uri": "https://localhost:8080/"
        },
        "outputId": "5d64ad0b-4b84-460b-fdc3-b954ad45728f"
      },
      "execution_count": 28,
      "outputs": [
        {
          "output_type": "stream",
          "name": "stdout",
          "text": [
            "4 2\n",
            "1 2\n",
            "1 3\n",
            "1 4\n",
            "2 3\n",
            "2 4\n",
            "3 4\n"
          ]
        }
      ]
    },
    {
      "cell_type": "code",
      "source": [
        "#15651. N M 문제인데, 중복이 가능한\n",
        "def back() :\n",
        "  arr = list(range(1, N+1))\n",
        "  if len(ans) == M :\n",
        "    print(*ans)\n",
        "    return\n",
        "  for i in range(len(arr)) :\n",
        "      ans.append(arr[i])\n",
        "      back()\n",
        "      ans.pop()\n",
        "\n",
        "N, M = map(int, input().split())\n",
        "ans = []\n",
        "back()"
      ],
      "metadata": {
        "id": "rDGhiWZm3OWM",
        "colab": {
          "base_uri": "https://localhost:8080/"
        },
        "outputId": "d7d8b0fd-8287-4245-b069-ef64d958af85"
      },
      "execution_count": 31,
      "outputs": [
        {
          "output_type": "stream",
          "name": "stdout",
          "text": [
            "3 3\n",
            "1 1 1\n",
            "1 1 2\n",
            "1 1 3\n",
            "1 2 1\n",
            "1 2 2\n",
            "1 2 3\n",
            "1 3 1\n",
            "1 3 2\n",
            "1 3 3\n",
            "2 1 1\n",
            "2 1 2\n",
            "2 1 3\n",
            "2 2 1\n",
            "2 2 2\n",
            "2 2 3\n",
            "2 3 1\n",
            "2 3 2\n",
            "2 3 3\n",
            "3 1 1\n",
            "3 1 2\n",
            "3 1 3\n",
            "3 2 1\n",
            "3 2 2\n",
            "3 2 3\n",
            "3 3 1\n",
            "3 3 2\n",
            "3 3 3\n"
          ]
        }
      ]
    },
    {
      "cell_type": "code",
      "source": [
        "#15652. N M 문제인데, 중복이 가능한데 오름차순인\n",
        "def back() :\n",
        "  arr = list(range(1, N+1))\n",
        "  if len(ans) == M :\n",
        "    print(*ans)\n",
        "    return\n",
        "  for i in range(len(arr)) :\n",
        "    if len(ans) == 0 :\n",
        "      ans.append(arr[i])\n",
        "      back()\n",
        "      ans.pop()\n",
        "    elif arr[i] >= ans[-1] :\n",
        "      ans.append(arr[i])\n",
        "      back()\n",
        "      ans.pop()\n",
        "\n",
        "N, M = map(int, input().split())\n",
        "ans = []\n",
        "back()"
      ],
      "metadata": {
        "colab": {
          "base_uri": "https://localhost:8080/"
        },
        "id": "7ltv7PZh-MXM",
        "outputId": "5bee6ead-9b7b-4d67-9b28-ac8e77c95409"
      },
      "execution_count": 38,
      "outputs": [
        {
          "output_type": "stream",
          "name": "stdout",
          "text": [
            "4 2\n",
            "1 1\n",
            "1 2\n",
            "1 3\n",
            "1 4\n",
            "2 2\n",
            "2 3\n",
            "2 4\n",
            "3 3\n",
            "3 4\n",
            "4 4\n"
          ]
        }
      ]
    }
  ]
}