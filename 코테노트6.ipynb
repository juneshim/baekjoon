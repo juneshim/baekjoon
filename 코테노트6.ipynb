{
  "nbformat": 4,
  "nbformat_minor": 0,
  "metadata": {
    "colab": {
      "provenance": [],
      "authorship_tag": "ABX9TyNnqM/5MjHeq4Msf28tHPHt",
      "include_colab_link": true
    },
    "kernelspec": {
      "name": "python3",
      "display_name": "Python 3"
    },
    "language_info": {
      "name": "python"
    }
  },
  "cells": [
    {
      "cell_type": "markdown",
      "metadata": {
        "id": "view-in-github",
        "colab_type": "text"
      },
      "source": [
        "<a href=\"https://colab.research.google.com/github/juneshim/baekjoon/blob/main/%EC%BD%94%ED%85%8C%EB%85%B8%ED%8A%B86.ipynb\" target=\"_parent\"><img src=\"https://colab.research.google.com/assets/colab-badge.svg\" alt=\"Open In Colab\"/></a>"
      ]
    },
    {
      "cell_type": "markdown",
      "source": [
        "#백트래킹"
      ],
      "metadata": {
        "id": "lyMywBd-NJuy"
      }
    },
    {
      "cell_type": "code",
      "execution_count": 13,
      "metadata": {
        "id": "SyE5qV7MNIHX",
        "colab": {
          "base_uri": "https://localhost:8080/"
        },
        "outputId": "97d8c0c9-ce2f-4195-c5df-be1dee607dfa"
      },
      "outputs": [
        {
          "output_type": "stream",
          "name": "stdout",
          "text": [
            "4 2\n",
            "1 2\n",
            "1 3\n",
            "1 4\n"
          ]
        }
      ],
      "source": [
        "#15649. 1부터 N까지 자연수 중에서 중복 없이 M개로 구성된 순서쌍을 모두 출력하는 함수\n",
        "def make_pair(n, m) :\n",
        "  # [1, 2, ...n]인 숫자들 중 m개를 선택해서 만들 수 있는 모든 순서쌍\n",
        "  arr = list(range(1,n+1))\n",
        "  index_arr = list(range(m))\n",
        "  while True :\n",
        "\n",
        "\n",
        "    while True :\n",
        "      print(*[arr[i] for i in index_arr])\n",
        "      if not index_arr[-1] == len(arr)-1 :\n",
        "        index_arr[-1] += 1\n",
        "      else :\n",
        "        break\n",
        "\n",
        "\n",
        "\n",
        "\n",
        "\n",
        "\n",
        "N, M = map(int, input().split())\n",
        "\n",
        "make_pair(N,M)"
      ]
    }
  ]
}