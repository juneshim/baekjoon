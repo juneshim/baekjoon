{
  "nbformat": 4,
  "nbformat_minor": 0,
  "metadata": {
    "colab": {
      "provenance": [],
      "authorship_tag": "ABX9TyOSLV3XYrVOfCvyLIJdY+I0",
      "include_colab_link": true
    },
    "kernelspec": {
      "name": "python3",
      "display_name": "Python 3"
    },
    "language_info": {
      "name": "python"
    }
  },
  "cells": [
    {
      "cell_type": "markdown",
      "metadata": {
        "id": "view-in-github",
        "colab_type": "text"
      },
      "source": [
        "<a href=\"https://colab.research.google.com/github/juneshim/baekjoon/blob/main/%EC%BD%94%ED%85%8C%EB%85%B8%ED%8A%B86.ipynb\" target=\"_parent\"><img src=\"https://colab.research.google.com/assets/colab-badge.svg\" alt=\"Open In Colab\"/></a>"
      ]
    },
    {
      "cell_type": "markdown",
      "source": [
        "#백트래킹"
      ],
      "metadata": {
        "id": "lyMywBd-NJuy"
      }
    },
    {
      "cell_type": "code",
      "execution_count": null,
      "metadata": {
        "id": "SyE5qV7MNIHX",
        "colab": {
          "base_uri": "https://localhost:8080/"
        },
        "outputId": "3ccf7d1a-3e47-472b-e0d1-3c6b65e5d024"
      },
      "outputs": [
        {
          "output_type": "stream",
          "name": "stdout",
          "text": [
            "4 4\n",
            "1 2 3 4\n",
            "1 2 4 3\n",
            "1 3 2 4\n",
            "1 3 4 2\n",
            "1 4 2 3\n",
            "1 4 3 2\n",
            "2 1 3 4\n",
            "2 1 4 3\n",
            "2 3 1 4\n",
            "2 3 4 1\n",
            "2 4 1 3\n",
            "2 4 3 1\n",
            "3 1 2 4\n",
            "3 1 4 2\n",
            "3 2 1 4\n",
            "3 2 4 1\n",
            "3 4 1 2\n",
            "3 4 2 1\n",
            "4 1 2 3\n",
            "4 1 3 2\n",
            "4 2 1 3\n",
            "4 2 3 1\n",
            "4 3 1 2\n",
            "4 3 2 1\n"
          ]
        }
      ],
      "source": [
        "#15649. 1부터 N까지 자연수 중에서 중복 없이 M개로 구성된 순서쌍을 모두 출력하는 함수\n",
        "#💡💡 백트래킹 기초 문제, 까먹으니 복습하기\n",
        "def back() :\n",
        "  arr = list(range(1, N+1))\n",
        "  if len(ans) == M :\n",
        "    print(*ans)\n",
        "    return\n",
        "  for i in range(len(arr)) :\n",
        "    if arr[i] not in ans :\n",
        "      ans.append(arr[i])\n",
        "      back()\n",
        "      ans.pop()\n",
        "\n",
        "N, M = map(int, input().split())\n",
        "ans = []\n",
        "back()"
      ]
    },
    {
      "cell_type": "code",
      "source": [
        "#15650. 조건이 추가된 N M 백트래킹\n",
        "def back() :\n",
        "  arr = list(range(1, N+1))\n",
        "  global check\n",
        "  if len(ans) == M :\n",
        "    print(*ans)\n",
        "    return\n",
        "  if check < M-len(ans) :\n",
        "    return\n",
        "  for i in range(len(arr)) :\n",
        "    check = N-i\n",
        "    if arr[i] not in ans and len(ans) == 0 :\n",
        "      ans.append(arr[i])\n",
        "      check -= 1\n",
        "      back()\n",
        "      ans.pop()\n",
        "    elif arr[i] not in ans and arr[i] > ans[-1] :\n",
        "      ans.append(arr[i])\n",
        "      check -= 1\n",
        "      back()\n",
        "      ans.pop()\n",
        "\n",
        "N, M = map(int, input().split())\n",
        "ans = []\n",
        "check = N\n",
        "back()"
      ],
      "metadata": {
        "id": "-52oCZO03DHw",
        "colab": {
          "base_uri": "https://localhost:8080/"
        },
        "outputId": "5d64ad0b-4b84-460b-fdc3-b954ad45728f"
      },
      "execution_count": null,
      "outputs": [
        {
          "output_type": "stream",
          "name": "stdout",
          "text": [
            "4 2\n",
            "1 2\n",
            "1 3\n",
            "1 4\n",
            "2 3\n",
            "2 4\n",
            "3 4\n"
          ]
        }
      ]
    },
    {
      "cell_type": "code",
      "source": [
        "#15651. N M 문제인데, 중복이 가능한\n",
        "def back() :\n",
        "  arr = list(range(1, N+1))\n",
        "  if len(ans) == M :\n",
        "    print(*ans)\n",
        "    return\n",
        "  for i in range(len(arr)) :\n",
        "      ans.append(arr[i])\n",
        "      back()\n",
        "      ans.pop()\n",
        "\n",
        "N, M = map(int, input().split())\n",
        "ans = []\n",
        "back()"
      ],
      "metadata": {
        "id": "rDGhiWZm3OWM",
        "colab": {
          "base_uri": "https://localhost:8080/"
        },
        "outputId": "d7d8b0fd-8287-4245-b069-ef64d958af85"
      },
      "execution_count": null,
      "outputs": [
        {
          "output_type": "stream",
          "name": "stdout",
          "text": [
            "3 3\n",
            "1 1 1\n",
            "1 1 2\n",
            "1 1 3\n",
            "1 2 1\n",
            "1 2 2\n",
            "1 2 3\n",
            "1 3 1\n",
            "1 3 2\n",
            "1 3 3\n",
            "2 1 1\n",
            "2 1 2\n",
            "2 1 3\n",
            "2 2 1\n",
            "2 2 2\n",
            "2 2 3\n",
            "2 3 1\n",
            "2 3 2\n",
            "2 3 3\n",
            "3 1 1\n",
            "3 1 2\n",
            "3 1 3\n",
            "3 2 1\n",
            "3 2 2\n",
            "3 2 3\n",
            "3 3 1\n",
            "3 3 2\n",
            "3 3 3\n"
          ]
        }
      ]
    },
    {
      "cell_type": "code",
      "source": [
        "#15652. N M 문제인데, 중복이 가능한데 오름차순인\n",
        "def back() :\n",
        "  arr = list(range(1, N+1))\n",
        "  if len(ans) == M :\n",
        "    print(*ans)\n",
        "    return\n",
        "  for i in range(len(arr)) :\n",
        "    if len(ans) == 0 :\n",
        "      ans.append(arr[i])\n",
        "      back()\n",
        "      ans.pop()\n",
        "    elif arr[i] >= ans[-1] :\n",
        "      ans.append(arr[i])\n",
        "      back()\n",
        "      ans.pop()\n",
        "\n",
        "N, M = map(int, input().split())\n",
        "ans = []\n",
        "back()"
      ],
      "metadata": {
        "colab": {
          "base_uri": "https://localhost:8080/"
        },
        "id": "7ltv7PZh-MXM",
        "outputId": "5bee6ead-9b7b-4d67-9b28-ac8e77c95409"
      },
      "execution_count": null,
      "outputs": [
        {
          "output_type": "stream",
          "name": "stdout",
          "text": [
            "4 2\n",
            "1 1\n",
            "1 2\n",
            "1 3\n",
            "1 4\n",
            "2 2\n",
            "2 3\n",
            "2 4\n",
            "3 3\n",
            "3 4\n",
            "4 4\n"
          ]
        }
      ]
    },
    {
      "cell_type": "code",
      "source": [
        "#9663. N Queen 문제\n",
        "#💡💡💡arr = [[1]*3]*3 으로 list만들면 얕은 복사에 의해 연결됨!! (1행 = 2행 = 3행)\n",
        "def back():\n",
        "  #1행1열부터 하나씩 넣으면서 전체 배열에 1이 있는 곳에만 선택해서 들어가기\n",
        "  global arr, ans_count\n",
        "  for i in range(N):\n",
        "    check = 0\n",
        "    for j in range(N):\n",
        "      if arr[i][j] == 1:\n",
        "        ans.append([i,j])\n",
        "        print(ans)\n",
        "        print(arr)\n",
        "        not_available(i,j)\n",
        "        back()\n",
        "      else:\n",
        "        check += 1\n",
        "        if check == N :\n",
        "          ans.pop()\n",
        "          return\n",
        "  if len(ans) == N :\n",
        "    ans_count += 1\n",
        "    arr = [[1]*N]*N\n",
        "\n",
        "def not_available(i, j):\n",
        "  #arr[i][j]에 의해 놓을 수 없는 곳 빼기\n",
        "  for a in range(N):\n",
        "    for b in range(N):\n",
        "      if a == i or b == j :\n",
        "        arr[a][b] = 0\n",
        "  a = i+1\n",
        "  b = j+1\n",
        "  while a < N and b < N :\n",
        "    arr[a][b] = 0\n",
        "    a += 1\n",
        "    b += 1\n",
        "  a = i-1\n",
        "  b = j+1\n",
        "  while a >= 0 and b < N :\n",
        "    arr[a][b] = 0\n",
        "    a -= 1\n",
        "    b += 1\n",
        "N = int(input())\n",
        "arr = [[1 for _ in range(N)] for _ in range(N)]\n",
        "ans = []\n",
        "ans_count = 0\n",
        "back()"
      ],
      "metadata": {
        "colab": {
          "base_uri": "https://localhost:8080/",
          "height": 769
        },
        "id": "6ROWjNlK3VY1",
        "outputId": "f2522e21-7a98-4502-bf39-cdfe6eceb2e9"
      },
      "execution_count": 26,
      "outputs": [
        {
          "output_type": "stream",
          "name": "stdout",
          "text": [
            "4\n",
            "1\n",
            "[[0, 0]]\n",
            "[[1, 1, 1, 1], [1, 1, 1, 1], [1, 1, 1, 1], [1, 1, 1, 1]]\n",
            "[[0, 0, 0, 0], [0, 1, 1, 1], [0, 1, 1, 1], [0, 1, 1, 1]]\n",
            "[[0, 0, 0, 0], [0, 0, 1, 1], [0, 1, 0, 1], [0, 1, 1, 0]]\n",
            "[[0, 0, 0, 0], [0, 0, 1, 1], [0, 1, 0, 1], [0, 1, 1, 0]]\n",
            "[[0, 0, 0, 0], [0, 0, 1, 1], [0, 1, 0, 1], [0, 1, 1, 0]]\n",
            "1\n",
            "1\n",
            "[[1, 2]]\n",
            "[[0, 0, 0, 0], [0, 0, 1, 1], [0, 1, 0, 1], [0, 1, 1, 0]]\n",
            "[[0, 0, 0, 0], [0, 0, 0, 0], [0, 1, 0, 1], [0, 1, 0, 0]]\n",
            "[[0, 0, 0, 0], [0, 0, 0, 0], [0, 1, 0, 0], [0, 1, 0, 0]]\n",
            "[[0, 0, 0, 0], [0, 0, 0, 0], [0, 1, 0, 0], [0, 1, 0, 0]]\n",
            "[[0, 0, 0, 0], [0, 0, 0, 0], [0, 1, 0, 0], [0, 1, 0, 0]]\n",
            "1\n",
            "1\n",
            "[[2, 1]]\n",
            "[[0, 0, 0, 0], [0, 0, 0, 0], [0, 1, 0, 0], [0, 1, 0, 0]]\n",
            "[[0, 0, 0, 0], [0, 0, 0, 0], [0, 0, 0, 0], [0, 0, 0, 0]]\n",
            "[[0, 0, 0, 0], [0, 0, 0, 0], [0, 0, 0, 0], [0, 0, 0, 0]]\n",
            "[[0, 0, 0, 0], [0, 0, 0, 0], [0, 0, 0, 0], [0, 0, 0, 0]]\n",
            "[[0, 0, 0, 0], [0, 0, 0, 0], [0, 0, 0, 0], [0, 0, 0, 0]]\n",
            "1\n",
            "1\n"
          ]
        },
        {
          "output_type": "error",
          "ename": "IndexError",
          "evalue": "pop from empty list",
          "traceback": [
            "\u001b[0;31m---------------------------------------------------------------------------\u001b[0m",
            "\u001b[0;31mIndexError\u001b[0m                                Traceback (most recent call last)",
            "\u001b[0;32m/tmp/ipython-input-1053896638.py\u001b[0m in \u001b[0;36m<cell line: 0>\u001b[0;34m()\u001b[0m\n\u001b[1;32m     49\u001b[0m \u001b[0mans\u001b[0m \u001b[0;34m=\u001b[0m \u001b[0;34m[\u001b[0m\u001b[0;34m]\u001b[0m\u001b[0;34m\u001b[0m\u001b[0;34m\u001b[0m\u001b[0m\n\u001b[1;32m     50\u001b[0m \u001b[0mans_count\u001b[0m \u001b[0;34m=\u001b[0m \u001b[0;36m0\u001b[0m\u001b[0;34m\u001b[0m\u001b[0;34m\u001b[0m\u001b[0m\n\u001b[0;32m---> 51\u001b[0;31m \u001b[0mback\u001b[0m\u001b[0;34m(\u001b[0m\u001b[0;34m)\u001b[0m\u001b[0;34m\u001b[0m\u001b[0;34m\u001b[0m\u001b[0m\n\u001b[0m",
            "\u001b[0;32m/tmp/ipython-input-1053896638.py\u001b[0m in \u001b[0;36mback\u001b[0;34m()\u001b[0m\n\u001b[1;32m     18\u001b[0m         \u001b[0mcheck\u001b[0m \u001b[0;34m+=\u001b[0m \u001b[0;36m1\u001b[0m\u001b[0;34m\u001b[0m\u001b[0;34m\u001b[0m\u001b[0m\n\u001b[1;32m     19\u001b[0m         \u001b[0;32mif\u001b[0m \u001b[0mcheck\u001b[0m \u001b[0;34m==\u001b[0m \u001b[0mN\u001b[0m \u001b[0;34m:\u001b[0m\u001b[0;34m\u001b[0m\u001b[0;34m\u001b[0m\u001b[0m\n\u001b[0;32m---> 20\u001b[0;31m           \u001b[0mans\u001b[0m\u001b[0;34m.\u001b[0m\u001b[0mpop\u001b[0m\u001b[0;34m(\u001b[0m\u001b[0;34m)\u001b[0m\u001b[0;34m\u001b[0m\u001b[0;34m\u001b[0m\u001b[0m\n\u001b[0m\u001b[1;32m     21\u001b[0m           \u001b[0;32mreturn\u001b[0m\u001b[0;34m\u001b[0m\u001b[0;34m\u001b[0m\u001b[0m\n\u001b[1;32m     22\u001b[0m   \u001b[0;32mif\u001b[0m \u001b[0mlen\u001b[0m\u001b[0;34m(\u001b[0m\u001b[0mans\u001b[0m\u001b[0;34m)\u001b[0m \u001b[0;34m==\u001b[0m \u001b[0mN\u001b[0m \u001b[0;34m:\u001b[0m\u001b[0;34m\u001b[0m\u001b[0;34m\u001b[0m\u001b[0m\n",
            "\u001b[0;31mIndexError\u001b[0m: pop from empty list"
          ]
        }
      ]
    },
    {
      "cell_type": "markdown",
      "source": [
        "#랜덤마라톤"
      ],
      "metadata": {
        "id": "qJOxAQDbNEKZ"
      }
    },
    {
      "cell_type": "code",
      "source": [
        "#8949. 자리 수 마다 더하기\n",
        "#💡💡 띄워 쓰기 없이 출력하려면 가장 쉬운건 ,sep=\"\" 인자 추가하기!\n",
        "A, B = map(int, input().split())\n",
        "a_arr = list(map(int, (str(A))))\n",
        "b_arr = list(map(int, (str(B))))\n",
        "\n",
        "if A >= B :\n",
        "  for i in range(len(a_arr)) :\n",
        "    if len(b_arr)-i-1 < 0 :\n",
        "      break\n",
        "    a_arr[len(a_arr)-i-1] += b_arr[len(b_arr)-i-1]\n",
        "  print(*a_arr, sep=\"\")\n",
        "else :\n",
        "  for i in range(len(b_arr)) :\n",
        "    if len(a_arr)-i-1 < 0 :\n",
        "      break\n",
        "    b_arr[len(b_arr)-i-1] += a_arr[len(a_arr)-i-1]\n",
        "  print(*b_arr, sep=\"\")"
      ],
      "metadata": {
        "colab": {
          "base_uri": "https://localhost:8080/"
        },
        "id": "C7-lvoZiNGO-",
        "outputId": "f5010f56-b711-4747-b170-6e0beb2ee035"
      },
      "execution_count": 52,
      "outputs": [
        {
          "output_type": "stream",
          "name": "stdout",
          "text": [
            "99999 99999\n",
            "1818181818\n"
          ]
        }
      ]
    }
  ]
}