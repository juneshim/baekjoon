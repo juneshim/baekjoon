{
  "nbformat": 4,
  "nbformat_minor": 0,
  "metadata": {
    "colab": {
      "provenance": [],
      "authorship_tag": "ABX9TyPtNaV8gD9EVgTG0dMRIR9F",
      "include_colab_link": true
    },
    "kernelspec": {
      "name": "python3",
      "display_name": "Python 3"
    },
    "language_info": {
      "name": "python"
    }
  },
  "cells": [
    {
      "cell_type": "markdown",
      "metadata": {
        "id": "view-in-github",
        "colab_type": "text"
      },
      "source": [
        "<a href=\"https://colab.research.google.com/github/juneshim/baekjoon/blob/main/%EC%BD%94%ED%85%8C%EB%85%B8%ED%8A%B84.ipynb\" target=\"_parent\"><img src=\"https://colab.research.google.com/assets/colab-badge.svg\" alt=\"Open In Colab\"/></a>"
      ]
    },
    {
      "cell_type": "markdown",
      "source": [
        "# CLASS 1 마무리"
      ],
      "metadata": {
        "id": "5Jb0UnJOp2DO"
      }
    },
    {
      "cell_type": "code",
      "execution_count": 33,
      "metadata": {
        "colab": {
          "base_uri": "https://localhost:8080/"
        },
        "id": "aRSeQqYqp0XM",
        "outputId": "a90383d2-e4d1-4b4e-a793-386a2afa2ff9"
      },
      "outputs": [
        {
          "output_type": "stream",
          "name": "stdout",
          "text": [
            "baekjoon\n",
            "1 0 -1 -1 2 -1 -1 -1 -1 4 3 -1 -1 7 5 -1 -1 -1 -1 -1 -1 -1 -1 -1 -1 -1\n"
          ]
        }
      ],
      "source": [
        "#10809. 알파벳이 등장한 위치\n",
        "#뒤에서부터 확인해서 덮어 쓰기\n",
        "#a~z에 해당하는 문자열\n",
        "# 딕셔너리 사용 법 💡💡💡 dic[key] = vale / dic.get(vale) = key\n",
        "arr = [-1]*26\n",
        "# print(arr)\n",
        "az_dic = {\n",
        "    0 : 'a', 1 : 'b', 2 : 'c', 3 : 'd', 4 : 'e', 5 : 'f', 6 : 'g', 7 : 'h', 8 : 'i', 9 : 'j',\n",
        "    10 : 'k', 11 : 'l', 12 : 'm', 13 : 'n', 14 : 'o', 15 : 'p', 16 : 'q', 17 : 'r', 18 : 's',\n",
        "    19 : 't', 20 : 'u', 21 : 'v', 22 : 'w', 23 : 'x', 24 : 'y', 25 : 'z'\n",
        "    }\n",
        "rev_dic = {v: k for k, v in az_dic.items()}\n",
        "\n",
        "word = list(input())\n",
        "n = len(word)\n",
        "# print(n)\n",
        "for i in range(n) :\n",
        "  # print(word[n-i-1])\n",
        "  # print(rev_dic.get(word[n-i-1]))\n",
        "  arr[rev_dic.get(word[n-i-1])] = n-i-1\n",
        "print(*arr)"
      ]
    },
    {
      "cell_type": "code",
      "source": [
        "#8958. 조건이 특이한 점수 계산 방식\n",
        "def calc_score(arr) :\n",
        "  # OXOXX 배열을 받으면 조건에 따라 점수 계산하는 함수\n",
        "  score = 0\n",
        "  combo = 1\n",
        "  for c in arr :\n",
        "    if c == 'O' :\n",
        "      score += combo\n",
        "      combo += 1\n",
        "    else :\n",
        "      combo = 1\n",
        "  return score\n",
        "\n",
        "n = int(input())\n",
        "for _ in range(n):\n",
        "  arr = list(input())\n",
        "  print(calc_score(arr))"
      ],
      "metadata": {
        "colab": {
          "base_uri": "https://localhost:8080/"
        },
        "id": "Z-m9R0Di1Ss1",
        "outputId": "973ca440-6afa-4439-db89-7703f3a323e0"
      },
      "execution_count": 34,
      "outputs": [
        {
          "output_type": "stream",
          "name": "stdout",
          "text": [
            "5\n",
            "OOXXOXXOOO\n",
            "10\n",
            "OOXXOOXXOO\n",
            "9\n",
            "OXOXOXOXOXOXOX\n",
            "7\n",
            "OOOOOOOOOO\n",
            "55\n",
            "OOOOXOOOOXOOOOX\n",
            "30\n"
          ]
        }
      ]
    },
    {
      "cell_type": "code",
      "source": [
        "#3052. 서로 다른 수의 개수\n",
        "arr = []\n",
        "for _ in range(10):\n",
        "  n = int(input())\n",
        "  m = n%42\n",
        "  if not m in arr :\n",
        "    arr.append(m)\n",
        "print(len(arr))"
      ],
      "metadata": {
        "colab": {
          "base_uri": "https://localhost:8080/"
        },
        "id": "3LUmgp8o6ryH",
        "outputId": "5d994aa5-7328-4dba-90a9-5378c7154ee7"
      },
      "execution_count": 39,
      "outputs": [
        {
          "output_type": "stream",
          "name": "stdout",
          "text": [
            "42\n",
            "84\n",
            "252\n",
            "420\n",
            "840\n",
            "126\n",
            "42\n",
            "84\n",
            "420\n",
            "126\n",
            "1\n"
          ]
        }
      ]
    },
    {
      "cell_type": "code",
      "source": [
        "#2920. ascending인지 descending 인지 mixed 인지 판단\n",
        "def witch_note(arr) :\n",
        "  # arr를 입력 받아 1부터 오름차순이면 ascending, 8부터 내림차순이면 descending, 만족하지 않으면 mixed 출력하는 함수\n",
        "  if arr[0] == 1 :\n",
        "    for i in range(len(arr)):\n",
        "      if i+1 != arr[i] :\n",
        "        print(\"mixed\")\n",
        "        return 0\n",
        "    print(\"ascending\")\n",
        "  elif arr[0] == 8 :\n",
        "    for i in range(len(arr)):\n",
        "      if 8-i != arr[i] :\n",
        "        print(\"mixed\")\n",
        "        return 0\n",
        "    print(\"descending\")\n",
        "  else :\n",
        "    print(\"mixed\")\n",
        "  return 0\n",
        "\n",
        "arr = list(map(int , input().split()))\n",
        "n = witch_note(arr)"
      ],
      "metadata": {
        "colab": {
          "base_uri": "https://localhost:8080/"
        },
        "id": "EbevwRH08VBP",
        "outputId": "0c9d0efb-700d-441f-c292-4a60489aee0f"
      },
      "execution_count": 46,
      "outputs": [
        {
          "output_type": "stream",
          "name": "stdout",
          "text": [
            "8 2 3 4 5 6 7 1\n",
            "mixed\n"
          ]
        }
      ]
    }
  ]
}