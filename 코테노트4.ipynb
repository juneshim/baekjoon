{
  "nbformat": 4,
  "nbformat_minor": 0,
  "metadata": {
    "colab": {
      "provenance": [],
      "authorship_tag": "ABX9TyMKMTXtF5taHyh6c0euLopR",
      "include_colab_link": true
    },
    "kernelspec": {
      "name": "python3",
      "display_name": "Python 3"
    },
    "language_info": {
      "name": "python"
    }
  },
  "cells": [
    {
      "cell_type": "markdown",
      "metadata": {
        "id": "view-in-github",
        "colab_type": "text"
      },
      "source": [
        "<a href=\"https://colab.research.google.com/github/juneshim/baekjoon/blob/main/%EC%BD%94%ED%85%8C%EB%85%B8%ED%8A%B84.ipynb\" target=\"_parent\"><img src=\"https://colab.research.google.com/assets/colab-badge.svg\" alt=\"Open In Colab\"/></a>"
      ]
    },
    {
      "cell_type": "markdown",
      "source": [
        "# CLASS 1 마무리"
      ],
      "metadata": {
        "id": "5Jb0UnJOp2DO"
      }
    },
    {
      "cell_type": "code",
      "execution_count": null,
      "metadata": {
        "colab": {
          "base_uri": "https://localhost:8080/"
        },
        "id": "aRSeQqYqp0XM",
        "outputId": "a90383d2-e4d1-4b4e-a793-386a2afa2ff9"
      },
      "outputs": [
        {
          "output_type": "stream",
          "name": "stdout",
          "text": [
            "baekjoon\n",
            "1 0 -1 -1 2 -1 -1 -1 -1 4 3 -1 -1 7 5 -1 -1 -1 -1 -1 -1 -1 -1 -1 -1 -1\n"
          ]
        }
      ],
      "source": [
        "#10809. 알파벳이 등장한 위치\n",
        "#뒤에서부터 확인해서 덮어 쓰기\n",
        "#a~z에 해당하는 문자열\n",
        "# 딕셔너리 사용 법 💡💡💡 dic[key] = vale / dic.get(vale) = key\n",
        "arr = [-1]*26\n",
        "# print(arr)\n",
        "az_dic = {\n",
        "    0 : 'a', 1 : 'b', 2 : 'c', 3 : 'd', 4 : 'e', 5 : 'f', 6 : 'g', 7 : 'h', 8 : 'i', 9 : 'j',\n",
        "    10 : 'k', 11 : 'l', 12 : 'm', 13 : 'n', 14 : 'o', 15 : 'p', 16 : 'q', 17 : 'r', 18 : 's',\n",
        "    19 : 't', 20 : 'u', 21 : 'v', 22 : 'w', 23 : 'x', 24 : 'y', 25 : 'z'\n",
        "    }\n",
        "rev_dic = {v: k for k, v in az_dic.items()}\n",
        "\n",
        "word = list(input())\n",
        "n = len(word)\n",
        "# print(n)\n",
        "for i in range(n) :\n",
        "  # print(word[n-i-1])\n",
        "  # print(rev_dic.get(word[n-i-1]))\n",
        "  arr[rev_dic.get(word[n-i-1])] = n-i-1\n",
        "print(*arr)"
      ]
    },
    {
      "cell_type": "code",
      "source": [
        "#8958. 조건이 특이한 점수 계산 방식\n",
        "def calc_score(arr) :\n",
        "  # OXOXX 배열을 받으면 조건에 따라 점수 계산하는 함수\n",
        "  score = 0\n",
        "  combo = 1\n",
        "  for c in arr :\n",
        "    if c == 'O' :\n",
        "      score += combo\n",
        "      combo += 1\n",
        "    else :\n",
        "      combo = 1\n",
        "  return score\n",
        "\n",
        "n = int(input())\n",
        "for _ in range(n):\n",
        "  arr = list(input())\n",
        "  print(calc_score(arr))"
      ],
      "metadata": {
        "colab": {
          "base_uri": "https://localhost:8080/"
        },
        "id": "Z-m9R0Di1Ss1",
        "outputId": "973ca440-6afa-4439-db89-7703f3a323e0"
      },
      "execution_count": null,
      "outputs": [
        {
          "output_type": "stream",
          "name": "stdout",
          "text": [
            "5\n",
            "OOXXOXXOOO\n",
            "10\n",
            "OOXXOOXXOO\n",
            "9\n",
            "OXOXOXOXOXOXOX\n",
            "7\n",
            "OOOOOOOOOO\n",
            "55\n",
            "OOOOXOOOOXOOOOX\n",
            "30\n"
          ]
        }
      ]
    },
    {
      "cell_type": "code",
      "source": [
        "#3052. 서로 다른 수의 개수\n",
        "arr = []\n",
        "for _ in range(10):\n",
        "  n = int(input())\n",
        "  m = n%42\n",
        "  if not m in arr :\n",
        "    arr.append(m)\n",
        "print(len(arr))"
      ],
      "metadata": {
        "colab": {
          "base_uri": "https://localhost:8080/"
        },
        "id": "3LUmgp8o6ryH",
        "outputId": "5d994aa5-7328-4dba-90a9-5378c7154ee7"
      },
      "execution_count": null,
      "outputs": [
        {
          "output_type": "stream",
          "name": "stdout",
          "text": [
            "42\n",
            "84\n",
            "252\n",
            "420\n",
            "840\n",
            "126\n",
            "42\n",
            "84\n",
            "420\n",
            "126\n",
            "1\n"
          ]
        }
      ]
    },
    {
      "cell_type": "code",
      "source": [
        "#2920. ascending인지 descending 인지 mixed 인지 판단\n",
        "def witch_note(arr) :\n",
        "  # arr를 입력 받아 1부터 오름차순이면 ascending, 8부터 내림차순이면 descending, 만족하지 않으면 mixed 출력하는 함수\n",
        "  if arr[0] == 1 :\n",
        "    for i in range(len(arr)):\n",
        "      if i+1 != arr[i] :\n",
        "        print(\"mixed\")\n",
        "        return 0\n",
        "    print(\"ascending\")\n",
        "  elif arr[0] == 8 :\n",
        "    for i in range(len(arr)):\n",
        "      if 8-i != arr[i] :\n",
        "        print(\"mixed\")\n",
        "        return 0\n",
        "    print(\"descending\")\n",
        "  else :\n",
        "    print(\"mixed\")\n",
        "  return 0\n",
        "\n",
        "arr = list(map(int , input().split()))\n",
        "n = witch_note(arr)"
      ],
      "metadata": {
        "colab": {
          "base_uri": "https://localhost:8080/"
        },
        "id": "EbevwRH08VBP",
        "outputId": "0c9d0efb-700d-441f-c292-4a60489aee0f"
      },
      "execution_count": null,
      "outputs": [
        {
          "output_type": "stream",
          "name": "stdout",
          "text": [
            "8 2 3 4 5 6 7 1\n",
            "mixed\n"
          ]
        }
      ]
    },
    {
      "cell_type": "markdown",
      "source": [
        "#재귀"
      ],
      "metadata": {
        "id": "VjyZP5lLhNTU"
      }
    },
    {
      "cell_type": "code",
      "source": [
        "#27433. N!을 출력하는 프로그램\n",
        "def n_Pac(n) :\n",
        "  ans = 1\n",
        "  for i in range(n):\n",
        "    ans *= i+1\n",
        "  return ans\n",
        "\n",
        "n = int(input())\n",
        "print(n_Pac(n))\n"
      ],
      "metadata": {
        "colab": {
          "base_uri": "https://localhost:8080/"
        },
        "id": "jpiLl6P4hbry",
        "outputId": "803b5dc8-3ac5-44a0-e0d9-e388693d2295"
      },
      "execution_count": null,
      "outputs": [
        {
          "output_type": "stream",
          "name": "stdout",
          "text": [
            "0\n",
            "1\n"
          ]
        }
      ]
    },
    {
      "cell_type": "code",
      "source": [
        "#10870. n이 주어졌을 때, n번째 피보나치 수를 구하는 프로그램\n",
        "def fibonacci(n) :\n",
        "  if n == 0 :\n",
        "    return 0\n",
        "  elif n == 1 :\n",
        "    return 1\n",
        "  else :\n",
        "    return fibonacci(n-1) + fibonacci(n-2)\n",
        "\n",
        "n = int(input())\n",
        "print(fibonacci(n))"
      ],
      "metadata": {
        "colab": {
          "base_uri": "https://localhost:8080/"
        },
        "id": "oUibNFdFmcqr",
        "outputId": "df52955c-1fd9-489f-9cb5-1a3ba571d20a"
      },
      "execution_count": null,
      "outputs": [
        {
          "output_type": "stream",
          "name": "stdout",
          "text": [
            "10\n",
            "55\n"
          ]
        }
      ]
    },
    {
      "cell_type": "code",
      "source": [
        "#25501.PALINDROME\n",
        "def recursion(s, l, r):\n",
        "  global i\n",
        "  i += 1\n",
        "  if l >= r: return 1\n",
        "  elif s[l] != s[r]: return 0\n",
        "  else: return recursion(s, l+1, r-1)\n",
        "\n",
        "def isPalindrome(s):\n",
        "  return recursion(s, 0, len(s)-1)\n",
        "\n",
        "n = int(input())\n",
        "for _ in range(n):\n",
        "  word = input()\n",
        "  i = 0\n",
        "  print(isPalindrome(word), i)"
      ],
      "metadata": {
        "colab": {
          "base_uri": "https://localhost:8080/"
        },
        "id": "4Gq81qBErR5F",
        "outputId": "5205d5e0-1130-4226-f9df-c44e752ac370"
      },
      "execution_count": null,
      "outputs": [
        {
          "output_type": "stream",
          "name": "stdout",
          "text": [
            "5\n",
            "AAA\n",
            "1 2\n",
            "ABBA\n",
            "1 3\n",
            "ABABA\n",
            "1 3\n",
            "ABCA\n",
            "0 2\n",
            "PALINDROME\n",
            "0 1\n"
          ]
        }
      ]
    },
    {
      "cell_type": "code",
      "source": [],
      "metadata": {
        "id": "YhlxcTPUtBy0"
      },
      "execution_count": null,
      "outputs": []
    }
  ]
}