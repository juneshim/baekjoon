{
  "nbformat": 4,
  "nbformat_minor": 0,
  "metadata": {
    "colab": {
      "provenance": [],
      "authorship_tag": "ABX9TyOTYVWmp6rNxfax4kS2jHsN",
      "include_colab_link": true
    },
    "kernelspec": {
      "name": "python3",
      "display_name": "Python 3"
    },
    "language_info": {
      "name": "python"
    }
  },
  "cells": [
    {
      "cell_type": "markdown",
      "metadata": {
        "id": "view-in-github",
        "colab_type": "text"
      },
      "source": [
        "<a href=\"https://colab.research.google.com/github/juneshim/baekjoon/blob/main/%EC%BD%94%ED%85%8C%EB%85%B8%ED%8A%B84.ipynb\" target=\"_parent\"><img src=\"https://colab.research.google.com/assets/colab-badge.svg\" alt=\"Open In Colab\"/></a>"
      ]
    },
    {
      "cell_type": "markdown",
      "source": [
        "# CLASS 1 마무리"
      ],
      "metadata": {
        "id": "5Jb0UnJOp2DO"
      }
    },
    {
      "cell_type": "code",
      "execution_count": null,
      "metadata": {
        "colab": {
          "base_uri": "https://localhost:8080/"
        },
        "id": "aRSeQqYqp0XM",
        "outputId": "a90383d2-e4d1-4b4e-a793-386a2afa2ff9"
      },
      "outputs": [
        {
          "output_type": "stream",
          "name": "stdout",
          "text": [
            "baekjoon\n",
            "1 0 -1 -1 2 -1 -1 -1 -1 4 3 -1 -1 7 5 -1 -1 -1 -1 -1 -1 -1 -1 -1 -1 -1\n"
          ]
        }
      ],
      "source": [
        "#10809. 알파벳이 등장한 위치\n",
        "#뒤에서부터 확인해서 덮어 쓰기\n",
        "#a~z에 해당하는 문자열\n",
        "# 딕셔너리 사용 법 💡💡💡 dic[key] = vale / dic.get(vale) = key\n",
        "arr = [-1]*26\n",
        "# print(arr)\n",
        "az_dic = {\n",
        "    0 : 'a', 1 : 'b', 2 : 'c', 3 : 'd', 4 : 'e', 5 : 'f', 6 : 'g', 7 : 'h', 8 : 'i', 9 : 'j',\n",
        "    10 : 'k', 11 : 'l', 12 : 'm', 13 : 'n', 14 : 'o', 15 : 'p', 16 : 'q', 17 : 'r', 18 : 's',\n",
        "    19 : 't', 20 : 'u', 21 : 'v', 22 : 'w', 23 : 'x', 24 : 'y', 25 : 'z'\n",
        "    }\n",
        "rev_dic = {v: k for k, v in az_dic.items()}\n",
        "\n",
        "word = list(input())\n",
        "n = len(word)\n",
        "# print(n)\n",
        "for i in range(n) :\n",
        "  # print(word[n-i-1])\n",
        "  # print(rev_dic.get(word[n-i-1]))\n",
        "  arr[rev_dic.get(word[n-i-1])] = n-i-1\n",
        "print(*arr)"
      ]
    },
    {
      "cell_type": "code",
      "source": [
        "#8958. 조건이 특이한 점수 계산 방식\n",
        "def calc_score(arr) :\n",
        "  # OXOXX 배열을 받으면 조건에 따라 점수 계산하는 함수\n",
        "  score = 0\n",
        "  combo = 1\n",
        "  for c in arr :\n",
        "    if c == 'O' :\n",
        "      score += combo\n",
        "      combo += 1\n",
        "    else :\n",
        "      combo = 1\n",
        "  return score\n",
        "\n",
        "n = int(input())\n",
        "for _ in range(n):\n",
        "  arr = list(input())\n",
        "  print(calc_score(arr))"
      ],
      "metadata": {
        "colab": {
          "base_uri": "https://localhost:8080/"
        },
        "id": "Z-m9R0Di1Ss1",
        "outputId": "973ca440-6afa-4439-db89-7703f3a323e0"
      },
      "execution_count": null,
      "outputs": [
        {
          "output_type": "stream",
          "name": "stdout",
          "text": [
            "5\n",
            "OOXXOXXOOO\n",
            "10\n",
            "OOXXOOXXOO\n",
            "9\n",
            "OXOXOXOXOXOXOX\n",
            "7\n",
            "OOOOOOOOOO\n",
            "55\n",
            "OOOOXOOOOXOOOOX\n",
            "30\n"
          ]
        }
      ]
    },
    {
      "cell_type": "code",
      "source": [
        "#3052. 서로 다른 수의 개수\n",
        "arr = []\n",
        "for _ in range(10):\n",
        "  n = int(input())\n",
        "  m = n%42\n",
        "  if not m in arr :\n",
        "    arr.append(m)\n",
        "print(len(arr))"
      ],
      "metadata": {
        "colab": {
          "base_uri": "https://localhost:8080/"
        },
        "id": "3LUmgp8o6ryH",
        "outputId": "5d994aa5-7328-4dba-90a9-5378c7154ee7"
      },
      "execution_count": null,
      "outputs": [
        {
          "output_type": "stream",
          "name": "stdout",
          "text": [
            "42\n",
            "84\n",
            "252\n",
            "420\n",
            "840\n",
            "126\n",
            "42\n",
            "84\n",
            "420\n",
            "126\n",
            "1\n"
          ]
        }
      ]
    },
    {
      "cell_type": "code",
      "source": [
        "#2920. ascending인지 descending 인지 mixed 인지 판단\n",
        "def witch_note(arr) :\n",
        "  # arr를 입력 받아 1부터 오름차순이면 ascending, 8부터 내림차순이면 descending, 만족하지 않으면 mixed 출력하는 함수\n",
        "  if arr[0] == 1 :\n",
        "    for i in range(len(arr)):\n",
        "      if i+1 != arr[i] :\n",
        "        print(\"mixed\")\n",
        "        return 0\n",
        "    print(\"ascending\")\n",
        "  elif arr[0] == 8 :\n",
        "    for i in range(len(arr)):\n",
        "      if 8-i != arr[i] :\n",
        "        print(\"mixed\")\n",
        "        return 0\n",
        "    print(\"descending\")\n",
        "  else :\n",
        "    print(\"mixed\")\n",
        "  return 0\n",
        "\n",
        "arr = list(map(int , input().split()))\n",
        "n = witch_note(arr)"
      ],
      "metadata": {
        "colab": {
          "base_uri": "https://localhost:8080/"
        },
        "id": "EbevwRH08VBP",
        "outputId": "0c9d0efb-700d-441f-c292-4a60489aee0f"
      },
      "execution_count": null,
      "outputs": [
        {
          "output_type": "stream",
          "name": "stdout",
          "text": [
            "8 2 3 4 5 6 7 1\n",
            "mixed\n"
          ]
        }
      ]
    },
    {
      "cell_type": "code",
      "source": [
        "#2675. 문자열 S를 입력받은 후에, 각 문자를 R번 반복해 새 문자열 P를 만든 후 출력하는 프로그램\n",
        "from collections import deque\n",
        "\n",
        "n = int(input())\n",
        "for _ in range(n):\n",
        "  r, s = input().split()\n",
        "  arr = deque()\n",
        "  for i in range(len(s)):\n",
        "    arr.append(s[i]*int(r))\n",
        "  print(\"\".join(arr))"
      ],
      "metadata": {
        "colab": {
          "base_uri": "https://localhost:8080/"
        },
        "id": "wkaI_VxjN0TR",
        "outputId": "03c2a16d-d0c7-46af-991b-734aee620d42"
      },
      "execution_count": null,
      "outputs": [
        {
          "output_type": "stream",
          "name": "stdout",
          "text": [
            "2\n",
            "3 ABC\n",
            "AAABBBCCC\n",
            "5 /HTP\n",
            "/////HHHHHTTTTTPPPPP\n"
          ]
        }
      ]
    },
    {
      "cell_type": "markdown",
      "source": [
        "#재귀"
      ],
      "metadata": {
        "id": "VjyZP5lLhNTU"
      }
    },
    {
      "cell_type": "code",
      "source": [
        "#27433. N!을 출력하는 프로그램\n",
        "def n_Pac(n) :\n",
        "  ans = 1\n",
        "  for i in range(n):\n",
        "    ans *= i+1\n",
        "  return ans\n",
        "\n",
        "n = int(input())\n",
        "print(n_Pac(n))\n"
      ],
      "metadata": {
        "colab": {
          "base_uri": "https://localhost:8080/"
        },
        "id": "jpiLl6P4hbry",
        "outputId": "803b5dc8-3ac5-44a0-e0d9-e388693d2295"
      },
      "execution_count": null,
      "outputs": [
        {
          "output_type": "stream",
          "name": "stdout",
          "text": [
            "0\n",
            "1\n"
          ]
        }
      ]
    },
    {
      "cell_type": "code",
      "source": [
        "#10870. n이 주어졌을 때, n번째 피보나치 수를 구하는 프로그램\n",
        "def fibonacci(n) :\n",
        "  if n == 0 :\n",
        "    return 0\n",
        "  elif n == 1 :\n",
        "    return 1\n",
        "  else :\n",
        "    return fibonacci(n-1) + fibonacci(n-2)\n",
        "\n",
        "n = int(input())\n",
        "print(fibonacci(n))"
      ],
      "metadata": {
        "colab": {
          "base_uri": "https://localhost:8080/"
        },
        "id": "oUibNFdFmcqr",
        "outputId": "df52955c-1fd9-489f-9cb5-1a3ba571d20a"
      },
      "execution_count": null,
      "outputs": [
        {
          "output_type": "stream",
          "name": "stdout",
          "text": [
            "10\n",
            "55\n"
          ]
        }
      ]
    },
    {
      "cell_type": "code",
      "source": [
        "#25501.PALINDROME\n",
        "def recursion(s, l, r):\n",
        "  global i\n",
        "  i += 1\n",
        "  if l >= r: return 1\n",
        "  elif s[l] != s[r]: return 0\n",
        "  else: return recursion(s, l+1, r-1)\n",
        "\n",
        "def isPalindrome(s):\n",
        "  return recursion(s, 0, len(s)-1)\n",
        "\n",
        "n = int(input())\n",
        "for _ in range(n):\n",
        "  word = input()\n",
        "  i = 0\n",
        "  print(isPalindrome(word), i)"
      ],
      "metadata": {
        "colab": {
          "base_uri": "https://localhost:8080/"
        },
        "id": "4Gq81qBErR5F",
        "outputId": "5205d5e0-1130-4226-f9df-c44e752ac370"
      },
      "execution_count": null,
      "outputs": [
        {
          "output_type": "stream",
          "name": "stdout",
          "text": [
            "5\n",
            "AAA\n",
            "1 2\n",
            "ABBA\n",
            "1 3\n",
            "ABABA\n",
            "1 3\n",
            "ABCA\n",
            "0 2\n",
            "PALINDROME\n",
            "0 1\n"
          ]
        }
      ]
    },
    {
      "cell_type": "code",
      "source": [
        "#.24060 배열 A에 K 번째 저장 되는 수를 출력하는 병합 정렬\n",
        "# 💡💡정수 나눗셈은 int(p/q) 말고 p//q 쓰면 된다\n",
        "def merge_sort(arr, p, r) :\n",
        "  # 재귀를 이용해서 배열 arr 크기를 1까지 쪼개고 합치기. 이때 실제 쪼개는게 아니라 인덱스 p, q, r 사용\n",
        "  if p < r :\n",
        "    q = (p+r)//2\n",
        "    merge_sort(arr, p, q) # 전반부\n",
        "    merge_sort(arr, q+1, r) # 후반부\n",
        "    merge(arr, p, q, r)\n",
        "\n",
        "def merge(arr, p, q, r) :\n",
        "  # 오름차순으로 합치기\n",
        "  global count, saved, k\n",
        "  tmp_arr = []\n",
        "  i = p\n",
        "  j = q+1\n",
        "  while i <= q and j <= r :\n",
        "    if arr[i] <= arr[j]:\n",
        "      tmp_arr.append(arr[i])\n",
        "      i += 1\n",
        "    else:\n",
        "      tmp_arr.append(arr[j])\n",
        "      j += 1\n",
        "  while i <= q :\n",
        "    tmp_arr.append(arr[i])\n",
        "    i += 1\n",
        "  while j <= r :\n",
        "    tmp_arr.append(arr[j])\n",
        "    j += 1\n",
        "  # arr에 반영\n",
        "  i = p\n",
        "  for idx in range(len(tmp_arr)) :\n",
        "    arr[i] = tmp_arr[idx]\n",
        "    count += 1\n",
        "    if count == k :\n",
        "      saved = tmp_arr[idx]\n",
        "    i += 1\n",
        "n, k = map(int, input().split())\n",
        "arr = list(map(int, input().split()))\n",
        "p = 0\n",
        "r = n-1\n",
        "count = 0\n",
        "saved = -1\n",
        "merge_sort(arr, p, r)\n",
        "print(saved)"
      ],
      "metadata": {
        "id": "YhlxcTPUtBy0",
        "colab": {
          "base_uri": "https://localhost:8080/"
        },
        "outputId": "3f58f404-f941-4d6c-95b2-1b7701860851"
      },
      "execution_count": null,
      "outputs": [
        {
          "output_type": "stream",
          "name": "stdout",
          "text": [
            "5 7\n",
            "4 5 1 3 2\n",
            "3\n"
          ]
        }
      ]
    },
    {
      "cell_type": "code",
      "source": [
        "#4779. 3^n개의 \"---\" 입력 받고 3등분 하여 가운데를 \" \"빈 공간으로 채우고, 길이가 1일때까지 반복하는 함수\n",
        "# 💡💡result = \"\".join(arr) print(result) 을 해야 빈칸 없이 출력!!\n",
        "def divide_empty(arr, p, s) :\n",
        "  #배열arr을 3등분 하고 가운데 빙공간으로 채우기. 인덱스 p, q, r, s 사용\n",
        "  if p < s-1 :\n",
        "    q = p + (s-p+1)//3\n",
        "    r = p + 2*(s-p+1)//3\n",
        "    for i in range((s-p+1)//3) :\n",
        "      arr[q+i] = \" \"\n",
        "    divide_empty(arr, p, q-1)\n",
        "    divide_empty(arr, r, s)\n",
        "\n",
        "N = int(input())\n",
        "arr = [\"-\"]*3**N\n",
        "p = 0\n",
        "s = len(arr)-1\n",
        "divide_empty(arr, p, s)\n",
        "result = \"\".join(arr)\n",
        "print(result)"
      ],
      "metadata": {
        "colab": {
          "base_uri": "https://localhost:8080/"
        },
        "id": "Lt-vR4ZZGPjl",
        "outputId": "6119da2d-2fcb-4221-aa47-6c130f4c2f44"
      },
      "execution_count": null,
      "outputs": [
        {
          "output_type": "stream",
          "name": "stdout",
          "text": [
            "3\n",
            "- -   - -         - -   - -\n"
          ]
        }
      ]
    },
    {
      "cell_type": "code",
      "source": [
        "#4779.다른 사람 코드 봤는데 참고용..... by. tmdwhd1213\n",
        "def sol(n):\n",
        "\tif n == 0:\n",
        "\t\treturn \"-\"\n",
        "\n",
        "\treturn sol(n-1) + \" \" * (3 ** (n-1)) + sol(n-1)\n",
        "\n",
        "while True:\n",
        "\ttry:\n",
        "\t\tN = int(input())\n",
        "\t\tprint(sol(N))\n",
        "\texcept:\n",
        "\t\tbreak"
      ],
      "metadata": {
        "id": "LBeNN00iSKI2"
      },
      "execution_count": null,
      "outputs": []
    },
    {
      "cell_type": "code",
      "source": [
        "#2447. 문자 모양 재귀 함수 구현\n",
        "## 나중에 다시 풀어보기, gpt 도움 받음\n",
        "from collections import deque\n",
        "def print_star(n):\n",
        "  #n은 9 들어옴\n",
        "  global dq_temp\n",
        "  for i in range(n//3):\n",
        "    for j in range(n//3):\n",
        "        if i == 1 and j == 1:\n",
        "          dq_temp.append(\" \")\n",
        "        else :\n",
        "          dq_temp.append(\"*\")\n",
        "    print(\"\".join(dq_temp))\n",
        "    dq_temp = deque()\n",
        "def pattern(n):\n",
        "  #재귀 부분\n",
        "  if n//3 > 3 :\n",
        "    pattern(n//3)\n",
        "  print_star(n)\n",
        "\n",
        "\n",
        "dq_temp = deque()\n",
        "pattern(27)\n"
      ],
      "metadata": {
        "id": "pwROD7XXM6kG",
        "colab": {
          "base_uri": "https://localhost:8080/"
        },
        "outputId": "efdedb0f-b002-4b99-f431-aa4f5592fa5b"
      },
      "execution_count": 51,
      "outputs": [
        {
          "output_type": "stream",
          "name": "stdout",
          "text": [
            "***\n",
            "* *\n",
            "***\n",
            "*********\n",
            "* *******\n",
            "*********\n",
            "*********\n",
            "*********\n",
            "*********\n",
            "*********\n",
            "*********\n",
            "*********\n"
          ]
        }
      ]
    },
    {
      "cell_type": "code",
      "source": [
        "def draw_star_pattern(n):\n",
        "    if n == 3:\n",
        "        return [\"***\", \"* *\", \"***\"]\n",
        "\n",
        "    # 더 작은 단위의 패턴을 재귀적으로 호출하여 가져옴\n",
        "    prev_pattern = draw_star_pattern(n // 3)\n",
        "\n",
        "    # 새로운 패턴을 저장할 리스트 new_pattern\n",
        "    new_pattern = []\n",
        "\n",
        "    # 작은 패턴을 이용해 큰 패턴을 조립\n",
        "    for line in prev_pattern:\n",
        "        new_pattern.append(line * 3)\n",
        "\n",
        "    for line in prev_pattern:\n",
        "        new_pattern.append(line + \" \" * (n // 3) + line)\n",
        "\n",
        "    for line in prev_pattern:\n",
        "        new_pattern.append(line * 3)\n",
        "\n",
        "    return new_pattern\n",
        "\n",
        "n = int(input())\n",
        "final_pattern = draw_star_pattern(n)\n",
        "for line in final_pattern:\n",
        "  print(line)"
      ],
      "metadata": {
        "colab": {
          "base_uri": "https://localhost:8080/"
        },
        "id": "h9wFK5Hp0TB8",
        "outputId": "68bfd3d2-bd32-4fe9-a697-278128c02552"
      },
      "execution_count": 54,
      "outputs": [
        {
          "output_type": "stream",
          "name": "stdout",
          "text": [
            "9\n",
            "*********\n",
            "* ** ** *\n",
            "*********\n",
            "***   ***\n",
            "* *   * *\n",
            "***   ***\n",
            "*********\n",
            "* ** ** *\n",
            "*********\n"
          ]
        }
      ]
    }
  ]
}